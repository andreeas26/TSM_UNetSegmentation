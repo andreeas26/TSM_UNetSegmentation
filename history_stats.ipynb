{
  "nbformat": 4,
  "nbformat_minor": 0,
  "metadata": {
    "colab": {
      "name": "history_stats.ipynb",
      "provenance": [],
      "collapsed_sections": [],
      "authorship_tag": "ABX9TyOn3xpROsQrSu6OiLkHcVhQ",
      "include_colab_link": true
    },
    "kernelspec": {
      "name": "python3",
      "display_name": "Python 3"
    }
  },
  "cells": [
    {
      "cell_type": "markdown",
      "metadata": {
        "id": "y2aU5JguR8D8",
        "colab_type": "text"
      },
      "source": [
        "## Check training and validation curves"
      ]
    },
    {
      "cell_type": "code",
      "metadata": {
        "id": "eliFBegMTy3A",
        "colab_type": "code",
        "colab": {}
      },
      "source": [
        "#@title Mount drive content\n",
        "# Load the Drive helper and mount\n",
        "from google.colab import drive\n",
        "\n",
        "# This will prompt for authorization.\n",
        "drive.mount('/content/drive')\n",
        "%cd /content/drive/My\\ Drive/Work/TSM"
      ],
      "execution_count": null,
      "outputs": []
    },
    {
      "cell_type": "code",
      "metadata": {
        "id": "KBSkFg7vR6t4",
        "colab_type": "code",
        "colab": {}
      },
      "source": [
        "import pandas as pd\n",
        "import pathlib as pt\n",
        "import matplotlib.pyplot as plt"
      ],
      "execution_count": null,
      "outputs": []
    },
    {
      "cell_type": "code",
      "metadata": {
        "id": "7WwYPwKmR7oK",
        "colab_type": "code",
        "colab": {}
      },
      "source": [
        "def plot_results(history, graphs_path, metric='dice_coef'):\n",
        "    dice_coef = history[metric]\n",
        "    val_dice_coef = history['val_' + metric]\n",
        "    loss = history['loss']\n",
        "    val_loss = history['val_loss']\n",
        "\n",
        "    epochs = range(1, len(dice_coef) + 1)\n",
        "    plt.figure(figsize=(12, 7))\n",
        "    \n",
        "    plt.plot(epochs, dice_coef, 'b', label='Training {}'.format(metric))\n",
        "    plt.plot(epochs, val_dice_coef, 'g', label='Validation {}'.format(metric))\n",
        "    plt.title('Training and validation {}'.format(metric.upper()))\n",
        "    plt.grid(True)\n",
        "    plt.legend()\n",
        "    \n",
        "    if not graphs_path.exists():\n",
        "      os.mkdir(str(graphs_path))\n",
        "          \n",
        "    plt.savefig(graphs_path/'train_val_{}.png'.format(metric), bbox_inches='tight', pad_inches=0)\n",
        "    \n",
        "    plt.figure(figsize=(12, 7))\n",
        "\n",
        "    plt.plot(epochs, loss, 'b', label='Training loss')\n",
        "    plt.plot(epochs, val_loss, 'g', label='Validation loss')\n",
        "    plt.title('Training and validation loss')\n",
        "    plt.grid(True)\n",
        "    plt.legend()\n",
        "    plt.savefig(graphs_path/'train_val_loss_with_{}.png'.format(metric), bbox_inches='tight', pad_inches=0)\n",
        "    \n",
        "    plt.show()"
      ],
      "execution_count": null,
      "outputs": []
    },
    {
      "cell_type": "code",
      "metadata": {
        "id": "vHch5JeRR7wk",
        "colab_type": "code",
        "colab": {}
      },
      "source": [
        "RUN_TIME = '2020_08_28-14_40'\n",
        "# RUN_TIME = '2020_08_30-08_49'\n",
        "ROOT_PATH    = pt.Path(\"/content/drive/My Drive/Work/TSM\")\n",
        "HISTORY_FILE = ROOT_PATH/\"trainings\"/RUN_TIME/\"history_{}.csv\".format(RUN_TIME)\n",
        "GRAPHS_PATH  = ROOT_PATH/\"trainings\"/RUN_TIME/\"graphs\"\n",
        "history = pd.read_csv(HISTORY_FILE)\n",
        "# history.loc[history['epoch'] == 0]"
      ],
      "execution_count": null,
      "outputs": []
    },
    {
      "cell_type": "code",
      "metadata": {
        "id": "qwKnffcsSR4Y",
        "colab_type": "code",
        "colab": {}
      },
      "source": [
        "plot_results(history, graphs_path=GRAPHS_PATH, metric='dice_coef')"
      ],
      "execution_count": null,
      "outputs": []
    }
  ]
}