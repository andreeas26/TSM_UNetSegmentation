{
  "nbformat": 4,
  "nbformat_minor": 0,
  "metadata": {
    "colab": {
      "name": "evaluate.ipynb",
      "provenance": [],
      "collapsed_sections": [],
      "toc_visible": true,
      "authorship_tag": "ABX9TyOxHgGznDLkttCognoxC4kD",
      "include_colab_link": true
    },
    "kernelspec": {
      "name": "python3",
      "display_name": "Python 3"
    },
    "accelerator": "GPU"
  },
  "cells": [
    {
      "cell_type": "markdown",
      "metadata": {
        "id": "view-in-github",
        "colab_type": "text"
      },
      "source": [
        "<a href=\"https://colab.research.google.com/github/andreeas26/TSM_UNetSegmentation/blob/master/evaluate.ipynb\" target=\"_parent\"><img src=\"https://colab.research.google.com/assets/colab-badge.svg\" alt=\"Open In Colab\"/></a>"
      ]
    },
    {
      "cell_type": "markdown",
      "metadata": {
        "id": "ThIXPuacOCZv",
        "colab_type": "text"
      },
      "source": [
        "## Preparing the setup"
      ]
    },
    {
      "cell_type": "code",
      "metadata": {
        "id": "63LNEwtWNkT4",
        "colab_type": "code",
        "colab": {}
      },
      "source": [
        "#@title Mount drive content\n",
        "# Load the Drive helper and mount\n",
        "from google.colab import drive\n",
        "\n",
        "# This will prompt for authorization.\n",
        "drive.mount('/content/drive')\n",
        "%cd /content/drive/My\\ Drive/Work/TSM"
      ],
      "execution_count": null,
      "outputs": []
    },
    {
      "cell_type": "code",
      "metadata": {
        "id": "A3TpXJAsN7eL",
        "colab_type": "code",
        "colab": {}
      },
      "source": [
        "import pathlib as pt\n",
        "import os\n",
        "import yaml\n",
        "import pandas as pd\n",
        "import numpy as np\n",
        "import matplotlib.pyplot as plt\n",
        "import cv2\n",
        "import keras\n",
        "import tensorflow as tf\n",
        "from datetime import datetime\n",
        "from tqdm import tqdm\n",
        "from keras.preprocessing.image import img_to_array\n",
        "from keras.callbacks import ModelCheckpoint, CSVLogger, EarlyStopping\n",
        "from keras.models import load_model\n",
        "from keras import optimizers\n",
        "\n",
        "import generators as gen\n",
        "import custom_metrics as cm\n",
        "from UNetModel import UNetModel\n",
        "\n",
        "print(\"Keras\", keras.__version__)\n",
        "print(\"Tensorflow\", tf.__version__)"
      ],
      "execution_count": null,
      "outputs": []
    },
    {
      "cell_type": "markdown",
      "metadata": {
        "id": "U2gqGKMDOaGz",
        "colab_type": "text"
      },
      "source": [
        "### Set useful paths\n"
      ]
    },
    {
      "cell_type": "code",
      "metadata": {
        "id": "RGKZTJEMN7hS",
        "colab_type": "code",
        "colab": {}
      },
      "source": [
        "# paths for the data\n",
        "ROOT_PATH    = pt.Path(\"/content/drive/My Drive/Work/TSM\")\n",
        "DATASET_PATH = ROOT_PATH/\"dataset\"\n",
        "IMGS_DIR     = \"images\"\n",
        "MASKS_DIR    = \"masks\"\n",
        "CONFIG_PATH  = ROOT_PATH/\"config_evaluate.yaml\"\n",
        "IMGS_CSV     = DATASET_PATH/\"images.csv\"\n",
        "MASKS_CSV    = DATASET_PATH/\"masks.csv\"\n",
        "\n",
        "# paths for evaluation\n",
        "RUN_TIME         = '2020_08_28-14_40'\n",
        "TRAIN_PATH       = ROOT_PATH/\"trainings\"/RUN_TIME\n",
        "CHECKPOINTS_PATH = TRAIN_PATH/\"checkpoints\"\n",
        "MODEL_PATH       = CHECKPOINTS_PATH/\"unet_weights-95-0.50641.hdf5\"\n",
        "EPOCH_NR         = str(MODEL_PATH.stem).split('-')[1]\n",
        "PRED_PATH        = TRAIN_PATH/\"predictions\"/EPOCH_NR\n",
        "GRAPHS_PATH      = TRAIN_PATH/\"graphs\"\n",
        "if not PRED_PATH.exists():\n",
        "  os.makedirs(PRED_PATH)"
      ],
      "execution_count": null,
      "outputs": []
    },
    {
      "cell_type": "markdown",
      "metadata": {
        "id": "6xVNNvIHOwyJ",
        "colab_type": "text"
      },
      "source": [
        "## Evaluating U-Net\n"
      ]
    },
    {
      "cell_type": "code",
      "metadata": {
        "id": "tCU8E0IrN7kP",
        "colab_type": "code",
        "colab": {}
      },
      "source": [
        "with open(CONFIG_PATH) as fp:\n",
        "  config = yaml.safe_load(fp)\n",
        "config"
      ],
      "execution_count": null,
      "outputs": []
    },
    {
      "cell_type": "code",
      "metadata": {
        "id": "Nph0K1FlN7ob",
        "colab_type": "code",
        "colab": {}
      },
      "source": [
        "imgs_df  = pd.read_csv(IMGS_CSV)\n",
        "masks_df = pd.read_csv(MASKS_CSV)\n",
        "\n",
        "assert len(imgs_df) == len(masks_df)"
      ],
      "execution_count": null,
      "outputs": []
    },
    {
      "cell_type": "code",
      "metadata": {
        "id": "-demFeEmP493",
        "colab_type": "code",
        "colab": {}
      },
      "source": [
        "test_imgs_df  = imgs_df.loc[imgs_df['subset'] == \"test\", :]\n",
        "test_masks_df = masks_df.loc[masks_df['subset'] == \"test\", :]\n",
        "print(\"[INFO] Test size {}\".format(len(test_imgs_df)))"
      ],
      "execution_count": null,
      "outputs": []
    },
    {
      "cell_type": "markdown",
      "metadata": {
        "id": "3Dv002t1XjWm",
        "colab_type": "text"
      },
      "source": [
        "### Load a model"
      ]
    },
    {
      "cell_type": "code",
      "metadata": {
        "id": "on3ZtpgfPKcK",
        "colab_type": "code",
        "colab": {}
      },
      "source": [
        "custom_objects = {\"dice_coef_loss\": cm.dice_coef_loss, \"dice_coef\": cm.dice_coef}\n",
        "model = load_model(MODEL_PATH, custom_objects=custom_objects)\n",
        "print(\"[INFO] Loaded model from {}\".format(MODEL_PATH))"
      ],
      "execution_count": null,
      "outputs": []
    },
    {
      "cell_type": "code",
      "metadata": {
        "id": "1-cRrXtNXOi8",
        "colab_type": "code",
        "colab": {}
      },
      "source": [
        "!pip install medpy\n",
        "from medpy.metric import dc, jc"
      ],
      "execution_count": null,
      "outputs": []
    },
    {
      "cell_type": "code",
      "metadata": {
        "id": "EZ0RKmRJb44Y",
        "colab_type": "code",
        "colab": {}
      },
      "source": [
        "def dice_coef(y_true, y_pred):\n",
        "    intersec = y_true*y_pred\n",
        "    union = y_true+y_pred\n",
        "    if intersec.sum() == 0:\n",
        "        dice_coef = 0\n",
        "    else:\n",
        "        dice_coef = round(intersec.sum()*2/union.sum(), 2)\n",
        "    return dice_coef"
      ],
      "execution_count": null,
      "outputs": []
    },
    {
      "cell_type": "code",
      "metadata": {
        "id": "fSb0mnkIN7tB",
        "colab_type": "code",
        "colab": {}
      },
      "source": [
        "score_df = pd.DataFrame(columns=[\"img_path\", \"mask_true_path\", \"mask_pred_path\", \"dice_score\", \"iou_score\"])\n",
        "\n",
        "if config[\"n_channels\"] == 1:\n",
        "    flag = cv2.IMREAD_GRAYSCALE\n",
        "else:\n",
        "    flag = cv2.IMREAD_COLOR\n",
        "\n",
        "with tqdm(desc=\"Evaluating\", unit=\"image\", total=len(test_imgs_df), leave=True) as pbar:\n",
        "  for _imgs, _masks in zip(test_imgs_df.iterrows(), test_masks_df.iterrows()):\n",
        "      img_idx, img_row = _imgs\n",
        "      mask_idx, mask_row = _masks\n",
        "\n",
        "      img_name = pt.Path(img_row['file_path']).name\n",
        "      mask_name = pt.Path(mask_row['file_path']).name\n",
        "      assert img_name == mask_name\n",
        "\n",
        "      img = cv2.imread(img_row['file_path'], flag)\n",
        "      img = cv2.resize(img, dsize=tuple(config['target_size']))\n",
        "\n",
        "      img = img * 1. / 255\n",
        "      img = img_to_array(img)\n",
        "      img = np.expand_dims(img, axis=0)\n",
        "      pred_mask = model.predict(img, batch_size=1)\n",
        "      pred_mask[pred_mask < config[\"threshold\"]] = 0.0\n",
        "      pred_mask[pred_mask > config[\"threshold\"]] = 1.0\n",
        "      pred_mask = np.squeeze(pred_mask)\n",
        "\n",
        "      true_mask = cv2.imread(mask_row['file_path'], cv2.IMREAD_GRAYSCALE)\n",
        "      true_mask = cv2.resize(true_mask, dsize=tuple(config['target_size']))\n",
        "\n",
        "      dice_score = dc(pred_mask, true_mask)\n",
        "      iou_score = cm.iou_score(true_mask, pred_mask)\n",
        "\n",
        "      # print(dice_score, cm.dice_score(true_mask, pred_mask), dice_coef(true_mask, pred_mask))\n",
        "      # print(iou_score, jc(pred_mask, true_mask))\n",
        "      save_to = str(PRED_PATH/img_name)\n",
        "      # print(save_to)\n",
        "      cv2.imwrite(save_to, pred_mask * 255)\n",
        "      score_df = score_df.append({\"img_path\": img_row['file_path'], \n",
        "                                  \"mask_true_path\": mask_row['file_path'], \n",
        "                                  \"mask_pred_path\": save_to,\n",
        "                                  \"dice_score\": dice_score, \n",
        "                                  \"iou_score\": iou_score},\n",
        "                                  ignore_index=True)\n",
        "\n",
        "      # plt.imshow(pred_mask, cmap='gray')\n",
        "      # plt.show()\n",
        "\n",
        "      pbar.update()\n",
        "print(score_df.describe())\n"
      ],
      "execution_count": null,
      "outputs": []
    },
    {
      "cell_type": "code",
      "metadata": {
        "id": "ik57AYNGN7v9",
        "colab_type": "code",
        "colab": {}
      },
      "source": [
        "pred_csv = PRED_PATH/\"predictions_thresh_{}.csv\".format(config[\"threshold\"])\n",
        "print(\"[INFO] Saving predictions scores in {}.\".format(pred_csv))\n",
        "score_df.to_csv(pred_csv, index=False)"
      ],
      "execution_count": null,
      "outputs": []
    },
    {
      "cell_type": "markdown",
      "metadata": {
        "id": "xveAwKXsiE3p",
        "colab_type": "text"
      },
      "source": [
        "### Plot histograms"
      ]
    },
    {
      "cell_type": "code",
      "metadata": {
        "id": "j_XpQMyLN7yr",
        "colab_type": "code",
        "colab": {}
      },
      "source": [
        "def plot_histogram_scores(scores, num_bins=50, metric='Dice Index', facecolor='blue', save_to=None, fig_filename='histogram'):\n",
        "    \"\"\"\n",
        "    Plot histogram of the Dice and IoU scores on the test set\n",
        "    :param scores:\n",
        "    :param num_bins:\n",
        "    :param metric:\n",
        "    :param facecolor:\n",
        "    :param save_to:\n",
        "    :param fig_filename:\n",
        "    :return:\n",
        "    \"\"\"\n",
        "\n",
        "    fig, ax = plt.subplots(figsize=(7, 5))\n",
        "    # the histogram of the data\n",
        "    _ = ax.hist(scores, bins=num_bins, density=True, facecolor=facecolor, alpha=0.7)\n",
        "    ax.set_xlabel(metric)\n",
        "    ax.set_ylabel('Frequency')\n",
        "    ax.set_title('Histogram of {} values'.format(metric))\n",
        "    ax.grid()\n",
        "    # Tweak spacing to prevent clipping of ylabel\n",
        "    fig.tight_layout()\n",
        "\n",
        "    if save_to:\n",
        "        if not save_to.exists():\n",
        "            os.makedirs(str(save_to))\n",
        "\n",
        "        plt.savefig(save_to/'{}_{}.png'.format(fig_filename, metric), dpi=300, bbox_inches='tight', pad_inches=0)\n",
        "    else:\n",
        "        plt.show()\n",
        "\n",
        "\n",
        "def create_histograms(pred_csv_path, graphs_path):\n",
        "    \"\"\"\n",
        "    Reads the predictions for each image in the test set and creates the\n",
        "    histogram of the values\n",
        "    :param pred_csv_path:\n",
        "    :param graphs_path:\n",
        "    :return:\n",
        "    \"\"\"\n",
        "    print(\"[INFO] Plot histogram for {} in {}\".format(pred_csv_path, graphs_path))\n",
        "\n",
        "    pred_df = pd.read_csv(pred_csv_path)\n",
        "    plot_histogram_scores(scores=pred_df[\"dice_score\"].values,\n",
        "                          metric=\"Dice Index\",\n",
        "                          save_to=graphs_path,\n",
        "                          fig_filename=\"hist_dice\")\n",
        "\n",
        "    plot_histogram_scores(scores=pred_df[\"iou_score\"].values,\n",
        "                          metric=\"IoU\",\n",
        "                          save_to=graphs_path,\n",
        "                          facecolor='green',\n",
        "                          fig_filename=\"hist_iou\")"
      ],
      "execution_count": null,
      "outputs": []
    },
    {
      "cell_type": "code",
      "metadata": {
        "id": "ynZOSdsfN7rK",
        "colab_type": "code",
        "colab": {}
      },
      "source": [
        "create_histograms(pred_csv, GRAPHS_PATH)"
      ],
      "execution_count": null,
      "outputs": []
    },
    {
      "cell_type": "code",
      "metadata": {
        "id": "v9FyYu74N7nS",
        "colab_type": "code",
        "colab": {
          "base_uri": "https://localhost:8080/",
          "height": 1000
        },
        "outputId": "abae5857-b7ba-4cdc-e28f-4e2feb68e1eb"
      },
      "source": [
        "!git help credentials"
      ],
      "execution_count": 38,
      "outputs": [
        {
          "output_type": "stream",
          "text": [
            "GITCREDENTIALS(7)                 Git Manual                 GITCREDENTIALS(7)\n",
            "\n",
            "N\bNA\bAM\bME\bE\n",
            "       gitcredentials - providing usernames and passwords to Git\n",
            "\n",
            "S\bSY\bYN\bNO\bOP\bPS\bSI\bIS\bS\n",
            "       git config credential.https://example.com.username myusername\n",
            "       git config credential.helper \"$helper $options\"\n",
            "\n",
            "D\bDE\bES\bSC\bCR\bRI\bIP\bPT\bTI\bIO\bON\bN\n",
            "       Git will sometimes need credentials from the user in order to perform\n",
            "       operations; for example, it may need to ask for a username and password\n",
            "       in order to access a remote repository over HTTP. This manual describes\n",
            "       the mechanisms Git uses to request these credentials, as well as some\n",
            "       features to avoid inputting these credentials repeatedly.\n",
            "\n",
            "R\bRE\bEQ\bQU\bUE\bES\bST\bTI\bIN\bNG\bG C\bCR\bRE\bED\bDE\bEN\bNT\bTI\bIA\bAL\bLS\bS\n",
            "       Without any credential helpers defined, Git will try the following\n",
            "       strategies to ask the user for usernames and passwords:\n",
            "\n",
            "        1. If the G\bGI\bIT\bT_\b_A\bAS\bSK\bKP\bPA\bAS\bSS\bS environment variable is set, the program\n",
            "           specified by the variable is invoked. A suitable prompt is provided\n",
            "           to the program on the command line, and the user’s input is read\n",
            "           from its standard output.\n",
            "\n",
            "        2. Otherwise, if the c\bco\bor\bre\be.\b.a\bas\bsk\bkP\bPa\bas\bss\bs configuration variable is set, its\n",
            "           value is used as above.\n",
            "\n",
            "        3. Otherwise, if the S\bSS\bSH\bH_\b_A\bAS\bSK\bKP\bPA\bAS\bSS\bS environment variable is set, its\n",
            "           value is used as above.\n",
            "\n",
            "        4. Otherwise, the user is prompted on the terminal.\n",
            "\n",
            "A\bAV\bVO\bOI\bID\bDI\bIN\bNG\bG R\bRE\bEP\bPE\bET\bTI\bIT\bTI\bIO\bON\bN\n",
            "       It can be cumbersome to input the same credentials over and over. Git\n",
            "       provides two methods to reduce this annoyance:\n",
            "\n",
            "        1. Static configuration of usernames for a given authentication\n",
            "           context.\n",
            "\n",
            "        2. Credential helpers to cache or store passwords, or to interact with\n",
            "           a system password wallet or keychain.\n",
            "\n",
            "       The first is simple and appropriate if you do not have secure storage\n",
            "       available for a password. It is generally configured by adding this to\n",
            "       your config:\n",
            "\n",
            "           [credential \"https://example.com\"]\n",
            "                   username = me\n",
            "\n",
            "       Credential helpers, on the other hand, are external programs from which\n",
            "       Git can request both usernames and passwords; they typically interface\n",
            "       with secure storage provided by the OS or other programs.\n",
            "\n",
            "       To use a helper, you must first select one to use. Git currently\n",
            "       includes the following helpers:\n",
            "\n",
            "       cache\n",
            "           Cache credentials in memory for a short period of time. See g\bgi\bit\bt-\b-\n",
            "           c\bcr\bre\bed\bde\ben\bnt\bti\bia\bal\bl-\b-c\bca\bac\bch\bhe\be(1) for details.\n",
            "\n",
            "       store\n",
            "           Store credentials indefinitely on disk. See g\bgi\bit\bt-\b-c\bcr\bre\bed\bde\ben\bnt\bti\bia\bal\bl-\b-s\bst\bto\bor\bre\be(1)\n",
            "           for details.\n",
            "\n",
            "       You may also have third-party helpers installed; search for\n",
            "       c\bcr\bre\bed\bde\ben\bnt\bti\bia\bal\bl-\b-*\b* in the output of g\bgi\bit\bt h\bhe\bel\blp\bp -\b-a\ba, and consult the\n",
            "       documentation of individual helpers. Once you have selected a helper,\n",
            "       you can tell Git to use it by putting its name into the\n",
            "       credential.helper variable.\n",
            "\n",
            "        1. Find a helper.\n",
            "\n",
            "               $ git help -a | grep credential-\n",
            "               credential-foo\n",
            "\n",
            "        2. Read its description.\n",
            "\n",
            "               $ git help credential-foo\n",
            "\n",
            "        3. Tell Git to use it.\n",
            "\n",
            "               $ git config --global credential.helper foo\n",
            "\n",
            "C\bCR\bRE\bED\bDE\bEN\bNT\bTI\bIA\bAL\bL C\bCO\bON\bNT\bTE\bEX\bXT\bTS\bS\n",
            "       Git considers each credential to have a context defined by a URL. This\n",
            "       context is used to look up context-specific configuration, and is\n",
            "       passed to any helpers, which may use it as an index into secure\n",
            "       storage.\n",
            "\n",
            "       For instance, imagine we are accessing h\bht\btt\btp\bps\bs:\b:/\b//\b/e\bex\bxa\bam\bmp\bpl\ble\be.\b.c\bco\bom\bm/\b/f\bfo\boo\bo.\b.g\bgi\bit\bt.\n",
            "       When Git looks into a config file to see if a section matches this\n",
            "       context, it will consider the two a match if the context is a\n",
            "       more-specific subset of the pattern in the config file. For example, if\n",
            "       you have this in your config file:\n",
            "\n",
            "           [credential \"https://example.com\"]\n",
            "                   username = foo\n",
            "\n",
            "       then we will match: both protocols are the same, both hosts are the\n",
            "       same, and the \"pattern\" URL does not care about the path component at\n",
            "       all. However, this context would not match:\n",
            "\n",
            "           [credential \"https://kernel.org\"]\n",
            "                   username = foo\n",
            "\n",
            "       because the hostnames differ. Nor would it match f\bfo\boo\bo.\b.e\bex\bxa\bam\bmp\bpl\ble\be.\b.c\bco\bom\bm; Git\n",
            "       compares hostnames exactly, without considering whether two hosts are\n",
            "       part of the same domain. Likewise, a config entry for\n",
            "       h\bht\btt\btp\bp:\b:/\b//\b/e\bex\bxa\bam\bmp\bpl\ble\be.\b.c\bco\bom\bm would not match: Git compares the protocols exactly.\n",
            "\n",
            "C\bCO\bON\bNF\bFI\bIG\bGU\bUR\bRA\bAT\bTI\bIO\bON\bN O\bOP\bPT\bTI\bIO\bON\bNS\bS\n",
            "       Options for a credential context can be configured either in\n",
            "       c\bcr\bre\bed\bde\ben\bnt\bti\bia\bal\bl.\b.*\b* (which applies to all credentials), or c\bcr\bre\bed\bde\ben\bnt\bti\bia\bal\bl.\b.<\b<u\bur\brl\bl>\b>.\b.*\b*,\n",
            "       where <url> matches the context as described above.\n",
            "\n",
            "       The following options are available in either location:\n",
            "\n",
            "       helper\n",
            "           The name of an external credential helper, and any associated\n",
            "           options. If the helper name is not an absolute path, then the\n",
            "           string g\bgi\bit\bt c\bcr\bre\bed\bde\ben\bnt\bti\bia\bal\bl-\b- is prepended. The resulting string is\n",
            "           executed by the shell (so, for example, setting this to f\bfo\boo\bo\n",
            "           -\b--\b-o\bop\bpt\bti\bio\bon\bn=\b=b\bba\bar\br will execute g\bgi\bit\bt c\bcr\bre\bed\bde\ben\bnt\bti\bia\bal\bl-\b-f\bfo\boo\bo -\b--\b-o\bop\bpt\bti\bio\bon\bn=\b=b\bba\bar\br via the\n",
            "           shell. See the manual of specific helpers for examples of their\n",
            "           use.\n",
            "\n",
            "           If there are multiple instances of the c\bcr\bre\bed\bde\ben\bnt\bti\bia\bal\bl.\b.h\bhe\bel\blp\bpe\ber\br\n",
            "           configuration variable, each helper will be tried in turn, and may\n",
            "           provide a username, password, or nothing. Once Git has acquired\n",
            "           both a username and a password, no more helpers will be tried.\n",
            "\n",
            "           If c\bcr\bre\bed\bde\ben\bnt\bti\bia\bal\bl.\b.h\bhe\bel\blp\bpe\ber\br is configured to the empty string, this resets\n",
            "           the helper list to empty (so you may override a helper set by a\n",
            "           lower-priority config file by configuring the empty-string helper,\n",
            "           followed by whatever set of helpers you would like).\n",
            "\n",
            "       username\n",
            "           A default username, if one is not provided in the URL.\n",
            "\n",
            "       useHttpPath\n",
            "           By default, Git does not consider the \"path\" component of an http\n",
            "           URL to be worth matching via external helpers. This means that a\n",
            "           credential stored for h\bht\btt\btp\bps\bs:\b:/\b//\b/e\bex\bxa\bam\bmp\bpl\ble\be.\b.c\bco\bom\bm/\b/f\bfo\boo\bo.\b.g\bgi\bit\bt will also be used\n",
            "           for h\bht\btt\btp\bps\bs:\b:/\b//\b/e\bex\bxa\bam\bmp\bpl\ble\be.\b.c\bco\bom\bm/\b/b\bba\bar\br.\b.g\bgi\bit\bt. If you do want to distinguish\n",
            "           these cases, set this option to t\btr\bru\bue\be.\n",
            "\n",
            "C\bCU\bUS\bST\bTO\bOM\bM H\bHE\bEL\bLP\bPE\bER\bRS\bS\n",
            "       You can write your own custom helpers to interface with any system in\n",
            "       which you keep credentials. See the documentation for Git’s c\bcr\bre\bed\bde\ben\bnt\bti\bia\bal\bls\bs\n",
            "       A\bAP\bPI\bI[1] for details.\n",
            "\n",
            "G\bGI\bIT\bT\n",
            "       Part of the g\bgi\bit\bt(1) suite\n",
            "\n",
            "N\bNO\bOT\bTE\bES\bS\n",
            "        1. credentials API\n",
            "           file:///usr/share/doc/git/html/technical/api-credentials.html\n",
            "\n",
            "Git 2.17.1                        04/20/2020                 GITCREDENTIALS(7)\n"
          ],
          "name": "stdout"
        }
      ]
    },
    {
      "cell_type": "code",
      "metadata": {
        "id": "JiBoRZn-pQUs",
        "colab_type": "code",
        "colab": {
          "base_uri": "https://localhost:8080/",
          "height": 33
        },
        "outputId": "0da26915-36ca-458b-bbd7-1967c2918109"
      },
      "source": [
        "!git push -u origin master"
      ],
      "execution_count": 39,
      "outputs": [
        {
          "output_type": "stream",
          "text": [
            "fatal: could not read Username for 'https://github.com': No such device or address\n"
          ],
          "name": "stdout"
        }
      ]
    }
  ]
}