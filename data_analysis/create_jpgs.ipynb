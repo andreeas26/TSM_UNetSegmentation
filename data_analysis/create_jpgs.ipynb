{
 "metadata": {
  "kernelspec": {
   "display_name": "Python 3",
   "language": "python",
   "name": "python3"
  },
  "language_info": {
   "codemirror_mode": {
    "name": "ipython",
    "version": 3
   },
   "file_extension": ".py",
   "mimetype": "text/x-python",
   "name": "python",
   "nbconvert_exporter": "python",
   "pygments_lexer": "ipython3",
   "version": "3.7.7"
  },
  "name": ""
 },
 "nbformat": 3,
 "nbformat_minor": 0,
 "worksheets": [
  {
   "cells": [
    {
     "cell_type": "heading",
     "level": 2,
     "metadata": {},
     "source": [
      "Convert DCM files into JPGS"
     ]
    },
    {
     "cell_type": "code",
     "collapsed": false,
     "input": [
      "import os\n",
      "import pathlib as pt\n",
      "import pandas as pd\n",
      "import subprocess\n",
      "from tqdm import tqdm"
     ],
     "language": "python",
     "metadata": {},
     "outputs": [],
     "prompt_number": 28
    },
    {
     "cell_type": "code",
     "collapsed": false,
     "input": [
      "def dcmj2pnm(dcm_filename, jpg_filename):\n",
      "    \"\"\"\n",
      "    Calls the 'dcmj2pnm' command from DICOM Toolkit\n",
      "    \n",
      "    Args:\n",
      "        dcm_filename(str): input .dcm file path\n",
      "        jpg_filename(str): output .jpg file path\n",
      "    \n",
      "    \"\"\"\n",
      "    subprocess.call([\"dcmj2pnm\", dcm_filename, jpg_filename, \"+oj\"])"
     ],
     "language": "python",
     "metadata": {},
     "outputs": [],
     "prompt_number": 3
    },
    {
     "cell_type": "code",
     "collapsed": false,
     "input": [
      "def convert_scans(data_df, dicom_path, output_path, imgs_dir):\n",
      "    \"\"\"\n",
      "    Reads each .dcm scan file from the DataFrame and converts it into a .jpg file\n",
      "    \n",
      "    Args:\n",
      "        data_df(DataFrame): contains the paths to all the .dcm files of mammograms\n",
      "        dicom_path(PoxisPath): root path to the .dcm files\n",
      "        output_path(PoxisPath): output dir path to where the .jpg files will be saved\n",
      "        imgs_dir(str): name of the directory where the converted scans will be saved\n",
      "        \n",
      "    \"\"\"\n",
      "    \n",
      "    with tqdm(desc=\"Convert\", unit=\"dcm\", total=len(data_df), leave=True) as pbar:\n",
      "        for idx, row in data_df.iterrows():\n",
      "            abn_type = None\n",
      "            if row[\"abnormality type\"].lower() == \"mass\":\n",
      "                abn_type = \"mass\"\n",
      "            else:\n",
      "                abn_type = \"calc\"\n",
      "\n",
      "            dcm_path = dicom_path/row[\"subset\"]/abn_type/row[\"image file path\"]\n",
      "            pathology = None\n",
      "            if \"benign\" in row[\"pathology\"].lower():\n",
      "                pathology = \"B\"\n",
      "            else:\n",
      "                pathology = \"M\"\n",
      "            img_filename = \"{abn_type}_{pat_id}_{breast}_{view_type}_{pathology}_{abn_id}.jpg\".format(abn_type=abn_type.upper(),\n",
      "                                                                                                      pat_id=row[\"patient_id\"],\n",
      "                                                                                                      breast=row[\"left or right breast\"],\n",
      "                                                                                                      view_type=row[\"image view\"],\n",
      "                                                                                                      pathology=pathology,\n",
      "                                                                                                      abn_id=row[\"abnormality id\"])\n",
      "            img_path = output_path/imgs_dir/img_filename\n",
      "            if not img_path.exists():\n",
      "                dcmj2pnm(str(dcm_path), str(img_path))\n",
      "            pbar.update()"
     ],
     "language": "python",
     "metadata": {},
     "outputs": [],
     "prompt_number": 7
    },
    {
     "cell_type": "code",
     "collapsed": false,
     "input": [
      "def convert_masks(data_df, masks_path, output_path, masks_dir):\n",
      "    \"\"\"\n",
      "    Reads each .dcm mask file from the DataFrame and converts it into a .jpg file\n",
      "    \n",
      "    Args:\n",
      "        data_df(DataFrame): contains the paths to all the .dcm files of mammograms\n",
      "        masks_path(PoxisPath): root path to the .dcm  mask files\n",
      "        output_path(PoxisPath): output dir path to where the .jpg files will be saved\n",
      "        masks_dir(str): name of the directory where the converted masks will be saved\n",
      "        \n",
      "    \"\"\"\n",
      "    \n",
      "    with tqdm(desc=\"Convert\", unit=\"dcm\", total=len(data_df), leave=True) as pbar:\n",
      "        for idx, row in data_df.iterrows():\n",
      "            abn_type = None\n",
      "            if row[\"abnormality type\"].lower() == \"mass\":\n",
      "                abn_type = \"mass\"\n",
      "            else:\n",
      "                abn_type = \"calc\"\n",
      "\n",
      "            dcm_path1 = masks_path/row[\"subset\"]/abn_type/row[\"ROI mask file path\"].strip()\n",
      "            dcm_path2 = masks_path/row[\"subset\"]/abn_type/row[\"cropped image file path\"].strip()\n",
      "\n",
      "            if dcm_path1.stat().st_size < dcm_path2.stat().st_size:\n",
      "                dcm_path = dcm_path2\n",
      "            else:\n",
      "                dcm_path = dcm_path1\n",
      "\n",
      "            pathology = None\n",
      "            if \"benign\" in row[\"pathology\"].lower():\n",
      "                pathology = \"B\"\n",
      "            else:\n",
      "                pathology = \"M\"\n",
      "            img_filename = \"{abn_type}_{pat_id}_{breast}_{view_type}_{pathology}_{abn_id}.jpg\".format(abn_type=abn_type.upper(),\n",
      "                                                                                                      pat_id=row[\"patient_id\"],\n",
      "                                                                                                      breast=row[\"left or right breast\"],\n",
      "                                                                                                      view_type=row[\"image view\"],\n",
      "                                                                                                      pathology=pathology,\n",
      "                                                                                                      abn_id=row[\"abnormality id\"])\n",
      "            img_path = output_path/masks_dir/img_filename\n",
      "            dcmj2pnm(str(dcm_path), str(img_path))\n",
      "#             print(dcm_path)\n",
      "#             print(img_path)\n",
      "            pbar.update()"
     ],
     "language": "python",
     "metadata": {},
     "outputs": [],
     "prompt_number": 11
    },
    {
     "cell_type": "heading",
     "level": 4,
     "metadata": {},
     "source": [
      "Path to the CBIS-DDSM dataset and output path where the converted jpg will be saved"
     ]
    },
    {
     "cell_type": "code",
     "collapsed": false,
     "input": [
      "DICOM_PATH  = pt.Path(\"F:\\Backup\\CBIS-DDSM_dataset\\CBIS-DDSM_v2\")\n",
      "MASKS_PATH  = pt.Path(\"F:\\Backup\\CBIS-DDSM_dataset\\ROI_masks\")\n",
      "DATA_CSV    = pt.Path(r\"D:\\work\\BreastTumorSegmentation\\dataset\\all_data.csv\") \n",
      "OUTPUT_PATH = pt.Path(r\"D:\\work\\BreastTumorSegmentation\\dataset\\original_size\")\n",
      "IMGS_DIR    = \"images\"\n",
      "MASKS_DIR   = \"masks\""
     ],
     "language": "python",
     "metadata": {},
     "outputs": [],
     "prompt_number": 30
    },
    {
     "cell_type": "markdown",
     "metadata": {},
     "source": [
      "Naming convention for the jpg **[abnorm type]\\_[patient id]\\_[left/right breast]\\_[view type]\\_[pathology]\\_[abnorm id].jpg**"
     ]
    },
    {
     "cell_type": "code",
     "collapsed": false,
     "input": [
      "data_df = pd.read_csv(DATA_CSV)\n",
      "data_df.head()"
     ],
     "language": "python",
     "metadata": {},
     "outputs": [
      {
       "html": [
        "<div>\n",
        "<style scoped>\n",
        "    .dataframe tbody tr th:only-of-type {\n",
        "        vertical-align: middle;\n",
        "    }\n",
        "\n",
        "    .dataframe tbody tr th {\n",
        "        vertical-align: top;\n",
        "    }\n",
        "\n",
        "    .dataframe thead th {\n",
        "        text-align: right;\n",
        "    }\n",
        "</style>\n",
        "<table border=\"1\" class=\"dataframe\">\n",
        "  <thead>\n",
        "    <tr style=\"text-align: right;\">\n",
        "      <th></th>\n",
        "      <th>patient_id</th>\n",
        "      <th>left or right breast</th>\n",
        "      <th>image view</th>\n",
        "      <th>abnormality id</th>\n",
        "      <th>abnormality type</th>\n",
        "      <th>pathology</th>\n",
        "      <th>image file path</th>\n",
        "      <th>ROI mask file path</th>\n",
        "      <th>cropped image file path</th>\n",
        "      <th>subset</th>\n",
        "    </tr>\n",
        "  </thead>\n",
        "  <tbody>\n",
        "    <tr>\n",
        "      <th>0</th>\n",
        "      <td>P_00001</td>\n",
        "      <td>LEFT</td>\n",
        "      <td>CC</td>\n",
        "      <td>1</td>\n",
        "      <td>mass</td>\n",
        "      <td>MALIGNANT</td>\n",
        "      <td>Mass-Training_P_00001_LEFT_CC/1.3.6.1.4.1.9590...</td>\n",
        "      <td>Mass-Training_P_00001_LEFT_CC_1/1.3.6.1.4.1.95...</td>\n",
        "      <td>Mass-Training_P_00001_LEFT_CC_1/1.3.6.1.4.1.95...</td>\n",
        "      <td>train</td>\n",
        "    </tr>\n",
        "    <tr>\n",
        "      <th>1</th>\n",
        "      <td>P_00001</td>\n",
        "      <td>LEFT</td>\n",
        "      <td>MLO</td>\n",
        "      <td>1</td>\n",
        "      <td>mass</td>\n",
        "      <td>MALIGNANT</td>\n",
        "      <td>Mass-Training_P_00001_LEFT_MLO/1.3.6.1.4.1.959...</td>\n",
        "      <td>Mass-Training_P_00001_LEFT_MLO_1/1.3.6.1.4.1.9...</td>\n",
        "      <td>Mass-Training_P_00001_LEFT_MLO_1/1.3.6.1.4.1.9...</td>\n",
        "      <td>train</td>\n",
        "    </tr>\n",
        "    <tr>\n",
        "      <th>2</th>\n",
        "      <td>P_00004</td>\n",
        "      <td>LEFT</td>\n",
        "      <td>CC</td>\n",
        "      <td>1</td>\n",
        "      <td>mass</td>\n",
        "      <td>BENIGN</td>\n",
        "      <td>Mass-Training_P_00004_LEFT_CC/1.3.6.1.4.1.9590...</td>\n",
        "      <td>Mass-Training_P_00004_LEFT_CC_1/1.3.6.1.4.1.95...</td>\n",
        "      <td>Mass-Training_P_00004_LEFT_CC_1/1.3.6.1.4.1.95...</td>\n",
        "      <td>train</td>\n",
        "    </tr>\n",
        "    <tr>\n",
        "      <th>3</th>\n",
        "      <td>P_00004</td>\n",
        "      <td>LEFT</td>\n",
        "      <td>MLO</td>\n",
        "      <td>1</td>\n",
        "      <td>mass</td>\n",
        "      <td>BENIGN</td>\n",
        "      <td>Mass-Training_P_00004_LEFT_MLO/1.3.6.1.4.1.959...</td>\n",
        "      <td>Mass-Training_P_00004_LEFT_MLO_1/1.3.6.1.4.1.9...</td>\n",
        "      <td>Mass-Training_P_00004_LEFT_MLO_1/1.3.6.1.4.1.9...</td>\n",
        "      <td>train</td>\n",
        "    </tr>\n",
        "    <tr>\n",
        "      <th>4</th>\n",
        "      <td>P_00004</td>\n",
        "      <td>RIGHT</td>\n",
        "      <td>MLO</td>\n",
        "      <td>1</td>\n",
        "      <td>mass</td>\n",
        "      <td>BENIGN</td>\n",
        "      <td>Mass-Training_P_00004_RIGHT_MLO/1.3.6.1.4.1.95...</td>\n",
        "      <td>Mass-Training_P_00004_RIGHT_MLO_1/1.3.6.1.4.1....</td>\n",
        "      <td>Mass-Training_P_00004_RIGHT_MLO_1/1.3.6.1.4.1....</td>\n",
        "      <td>train</td>\n",
        "    </tr>\n",
        "  </tbody>\n",
        "</table>\n",
        "</div>"
       ],
       "metadata": {},
       "output_type": "pyout",
       "prompt_number": 31,
       "text": [
        "  patient_id left or right breast image view  abnormality id abnormality type  \\\n",
        "0    P_00001                 LEFT         CC               1             mass   \n",
        "1    P_00001                 LEFT        MLO               1             mass   \n",
        "2    P_00004                 LEFT         CC               1             mass   \n",
        "3    P_00004                 LEFT        MLO               1             mass   \n",
        "4    P_00004                RIGHT        MLO               1             mass   \n",
        "\n",
        "   pathology                                    image file path  \\\n",
        "0  MALIGNANT  Mass-Training_P_00001_LEFT_CC/1.3.6.1.4.1.9590...   \n",
        "1  MALIGNANT  Mass-Training_P_00001_LEFT_MLO/1.3.6.1.4.1.959...   \n",
        "2     BENIGN  Mass-Training_P_00004_LEFT_CC/1.3.6.1.4.1.9590...   \n",
        "3     BENIGN  Mass-Training_P_00004_LEFT_MLO/1.3.6.1.4.1.959...   \n",
        "4     BENIGN  Mass-Training_P_00004_RIGHT_MLO/1.3.6.1.4.1.95...   \n",
        "\n",
        "                                  ROI mask file path  \\\n",
        "0  Mass-Training_P_00001_LEFT_CC_1/1.3.6.1.4.1.95...   \n",
        "1  Mass-Training_P_00001_LEFT_MLO_1/1.3.6.1.4.1.9...   \n",
        "2  Mass-Training_P_00004_LEFT_CC_1/1.3.6.1.4.1.95...   \n",
        "3  Mass-Training_P_00004_LEFT_MLO_1/1.3.6.1.4.1.9...   \n",
        "4  Mass-Training_P_00004_RIGHT_MLO_1/1.3.6.1.4.1....   \n",
        "\n",
        "                             cropped image file path subset  \n",
        "0  Mass-Training_P_00001_LEFT_CC_1/1.3.6.1.4.1.95...  train  \n",
        "1  Mass-Training_P_00001_LEFT_MLO_1/1.3.6.1.4.1.9...  train  \n",
        "2  Mass-Training_P_00004_LEFT_CC_1/1.3.6.1.4.1.95...  train  \n",
        "3  Mass-Training_P_00004_LEFT_MLO_1/1.3.6.1.4.1.9...  train  \n",
        "4  Mass-Training_P_00004_RIGHT_MLO_1/1.3.6.1.4.1....  train  "
       ]
      }
     ],
     "prompt_number": 31
    },
    {
     "cell_type": "code",
     "collapsed": false,
     "input": [
      "convert_scans(data_df=data_df, dicom_path=DICOM_PATH, output_path=OUTPUT_PATH, imgs_dir=IMGS_DIR)"
     ],
     "language": "python",
     "metadata": {},
     "outputs": [
      {
       "output_type": "stream",
       "stream": "stderr",
       "text": [
        "Convert: 100%|\u2588\u2588\u2588\u2588\u2588\u2588\u2588\u2588\u2588\u2588\u2588\u2588\u2588\u2588\u2588\u2588\u2588\u2588\u2588\u2588\u2588\u2588\u2588\u2588\u2588\u2588\u2588\u2588\u2588\u2588\u2588\u2588\u2588\u2588\u2588\u2588\u2588\u2588\u2588\u2588\u2588\u2588\u2588\u2588\u2588\u2588\u2588\u2588\u2588\u2588\u2588\u2588\u2588\u2588\u2588\u2588\u2588\u2588\u2588\u2588\u2588\u2588\u2588\u2588\u2588\u2588| 3568/3568 [00:01<00:00, 2845.41dcm/s]\n"
       ]
      }
     ],
     "prompt_number": 8
    },
    {
     "cell_type": "code",
     "collapsed": false,
     "input": [
      "convert_masks(data_df=data_df, masks_path=MASKS_PATH, output_path=OUTPUT_PATH, masks_dir=MASKS_DIR)"
     ],
     "language": "python",
     "metadata": {},
     "outputs": [
      {
       "output_type": "stream",
       "stream": "stderr",
       "text": [
        "Convert: 100%|\u2588\u2588\u2588\u2588\u2588\u2588\u2588\u2588\u2588\u2588\u2588\u2588\u2588\u2588\u2588\u2588\u2588\u2588\u2588\u2588\u2588\u2588\u2588\u2588\u2588\u2588\u2588\u2588\u2588\u2588\u2588\u2588\u2588\u2588\u2588\u2588\u2588\u2588\u2588\u2588\u2588\u2588\u2588\u2588\u2588\u2588\u2588\u2588\u2588\u2588\u2588\u2588\u2588\u2588\u2588\u2588\u2588\u2588\u2588\u2588\u2588\u2588\u2588\u2588\u2588\u2588\u2588\u2588| 3568/3568 [45:41<00:00,  1.30dcm/s]\n"
       ]
      }
     ],
     "prompt_number": 12
    },
    {
     "cell_type": "heading",
     "level": 4,
     "metadata": {},
     "source": [
      "Create DataFrame for images and for masks"
     ]
    },
    {
     "cell_type": "code",
     "collapsed": false,
     "input": [
      "image_files = list((OUTPUT_PATH/IMGS_DIR).glob(\"*.jpg\"))\n",
      "print(\"[INFO] Found {} .jpg files as scan images\".format(len(image_files)))\n",
      "imgs_data_df  = pd.DataFrame()\n",
      "imgs_data_df[\"file_path\"] = [str(p) for p in image_files]\n",
      "imgs_data_df.loc[imgs_data_df[\"file_path\"].str.contains(\"MASS\"), \"abnormaliy_type\"] = \"mass\"\n",
      "imgs_data_df.loc[imgs_data_df[\"file_path\"].str.contains(\"CALC\"), \"abnormaliy_type\"] = \"calc\"\n",
      "imgs_data_df.head()"
     ],
     "language": "python",
     "metadata": {},
     "outputs": [
      {
       "output_type": "stream",
       "stream": "stdout",
       "text": [
        "[INFO] Found 3568 .jpg files as scan images\n"
       ]
      },
      {
       "html": [
        "<div>\n",
        "<style scoped>\n",
        "    .dataframe tbody tr th:only-of-type {\n",
        "        vertical-align: middle;\n",
        "    }\n",
        "\n",
        "    .dataframe tbody tr th {\n",
        "        vertical-align: top;\n",
        "    }\n",
        "\n",
        "    .dataframe thead th {\n",
        "        text-align: right;\n",
        "    }\n",
        "</style>\n",
        "<table border=\"1\" class=\"dataframe\">\n",
        "  <thead>\n",
        "    <tr style=\"text-align: right;\">\n",
        "      <th></th>\n",
        "      <th>file_path</th>\n",
        "      <th>abnormaliy_type</th>\n",
        "    </tr>\n",
        "  </thead>\n",
        "  <tbody>\n",
        "    <tr>\n",
        "      <th>0</th>\n",
        "      <td>D:\\work\\BreastTumorSegmentation\\dataset\\origin...</td>\n",
        "      <td>calc</td>\n",
        "    </tr>\n",
        "    <tr>\n",
        "      <th>1</th>\n",
        "      <td>D:\\work\\BreastTumorSegmentation\\dataset\\origin...</td>\n",
        "      <td>calc</td>\n",
        "    </tr>\n",
        "    <tr>\n",
        "      <th>2</th>\n",
        "      <td>D:\\work\\BreastTumorSegmentation\\dataset\\origin...</td>\n",
        "      <td>calc</td>\n",
        "    </tr>\n",
        "    <tr>\n",
        "      <th>3</th>\n",
        "      <td>D:\\work\\BreastTumorSegmentation\\dataset\\origin...</td>\n",
        "      <td>calc</td>\n",
        "    </tr>\n",
        "    <tr>\n",
        "      <th>4</th>\n",
        "      <td>D:\\work\\BreastTumorSegmentation\\dataset\\origin...</td>\n",
        "      <td>calc</td>\n",
        "    </tr>\n",
        "  </tbody>\n",
        "</table>\n",
        "</div>"
       ],
       "metadata": {},
       "output_type": "pyout",
       "prompt_number": 32,
       "text": [
        "                                           file_path abnormaliy_type\n",
        "0  D:\\work\\BreastTumorSegmentation\\dataset\\origin...            calc\n",
        "1  D:\\work\\BreastTumorSegmentation\\dataset\\origin...            calc\n",
        "2  D:\\work\\BreastTumorSegmentation\\dataset\\origin...            calc\n",
        "3  D:\\work\\BreastTumorSegmentation\\dataset\\origin...            calc\n",
        "4  D:\\work\\BreastTumorSegmentation\\dataset\\origin...            calc"
       ]
      }
     ],
     "prompt_number": 32
    },
    {
     "cell_type": "code",
     "collapsed": false,
     "input": [
      "masks_files = list((OUTPUT_PATH/MASKS_DIR).glob(\"*.jpg\"))\n",
      "print(\"[INFO] Found {} .jpg files as masks\".format(len(masks_files)))\n",
      "masks_data_df = pd.DataFrame()\n",
      "masks_data_df[\"file_path\"] = [str(p) for p in masks_files]\n",
      "masks_data_df.loc[masks_data_df[\"file_path\"].str.contains(\"MASS\"), \"abnormaliy_type\"] = \"mass\"\n",
      "masks_data_df.loc[masks_data_df[\"file_path\"].str.contains(\"CALC\"), \"abnormaliy_type\"] = \"calc\"\n",
      "masks_data_df.head()"
     ],
     "language": "python",
     "metadata": {},
     "outputs": [
      {
       "output_type": "stream",
       "stream": "stdout",
       "text": [
        "[INFO] Found 3568 .jpg files as masks\n"
       ]
      },
      {
       "html": [
        "<div>\n",
        "<style scoped>\n",
        "    .dataframe tbody tr th:only-of-type {\n",
        "        vertical-align: middle;\n",
        "    }\n",
        "\n",
        "    .dataframe tbody tr th {\n",
        "        vertical-align: top;\n",
        "    }\n",
        "\n",
        "    .dataframe thead th {\n",
        "        text-align: right;\n",
        "    }\n",
        "</style>\n",
        "<table border=\"1\" class=\"dataframe\">\n",
        "  <thead>\n",
        "    <tr style=\"text-align: right;\">\n",
        "      <th></th>\n",
        "      <th>file_path</th>\n",
        "      <th>abnormaliy_type</th>\n",
        "    </tr>\n",
        "  </thead>\n",
        "  <tbody>\n",
        "    <tr>\n",
        "      <th>0</th>\n",
        "      <td>D:\\work\\BreastTumorSegmentation\\dataset\\origin...</td>\n",
        "      <td>calc</td>\n",
        "    </tr>\n",
        "    <tr>\n",
        "      <th>1</th>\n",
        "      <td>D:\\work\\BreastTumorSegmentation\\dataset\\origin...</td>\n",
        "      <td>calc</td>\n",
        "    </tr>\n",
        "    <tr>\n",
        "      <th>2</th>\n",
        "      <td>D:\\work\\BreastTumorSegmentation\\dataset\\origin...</td>\n",
        "      <td>calc</td>\n",
        "    </tr>\n",
        "    <tr>\n",
        "      <th>3</th>\n",
        "      <td>D:\\work\\BreastTumorSegmentation\\dataset\\origin...</td>\n",
        "      <td>calc</td>\n",
        "    </tr>\n",
        "    <tr>\n",
        "      <th>4</th>\n",
        "      <td>D:\\work\\BreastTumorSegmentation\\dataset\\origin...</td>\n",
        "      <td>calc</td>\n",
        "    </tr>\n",
        "  </tbody>\n",
        "</table>\n",
        "</div>"
       ],
       "metadata": {},
       "output_type": "pyout",
       "prompt_number": 33,
       "text": [
        "                                           file_path abnormaliy_type\n",
        "0  D:\\work\\BreastTumorSegmentation\\dataset\\origin...            calc\n",
        "1  D:\\work\\BreastTumorSegmentation\\dataset\\origin...            calc\n",
        "2  D:\\work\\BreastTumorSegmentation\\dataset\\origin...            calc\n",
        "3  D:\\work\\BreastTumorSegmentation\\dataset\\origin...            calc\n",
        "4  D:\\work\\BreastTumorSegmentation\\dataset\\origin...            calc"
       ]
      }
     ],
     "prompt_number": 33
    },
    {
     "cell_type": "code",
     "collapsed": false,
     "input": [
      "imgs_data_df.to_csv(OUTPUT_PATH/\"images_original.csv\", index=False)\n",
      "masks_data_df.to_csv(OUTPUT_PATH/\"masks_original.csv\", index=False)"
     ],
     "language": "python",
     "metadata": {},
     "outputs": [],
     "prompt_number": 34
    },
    {
     "cell_type": "code",
     "collapsed": false,
     "input": [],
     "language": "python",
     "metadata": {},
     "outputs": [],
     "prompt_number": null
    }
   ],
   "metadata": {}
  }
 ]
}
