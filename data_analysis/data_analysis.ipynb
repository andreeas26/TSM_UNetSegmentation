{
 "cells": [
  {
   "cell_type": "markdown",
   "metadata": {},
   "source": [
    "## Analyse CBIS-DDSM data .csv files"
   ]
  },
  {
   "cell_type": "markdown",
   "metadata": {},
   "source": [
    "#### All 4 csv files provided will be converted into one for easier management."
   ]
  },
  {
   "cell_type": "code",
   "execution_count": 29,
   "metadata": {
    "collapsed": false,
    "jupyter": {
     "outputs_hidden": false
    }
   },
   "outputs": [],
   "source": [
    "import pathlib as pt\n",
    "import pandas as pd\n",
    "import os"
   ]
  },
  {
   "cell_type": "code",
   "execution_count": 30,
   "metadata": {
    "collapsed": false,
    "jupyter": {
     "outputs_hidden": false
    }
   },
   "outputs": [],
   "source": [
    "DATA_PATH  = pt.Path(\"D:\\work\\BreastTumorSegmentation\\dataset\")\n",
    "MASS_TRAIN = \"mass_case_description_train_set.csv\"\n",
    "MASS_TEST  = \"mass_case_description_test_set.csv\"\n",
    "CALC_TRAIN = \"calc_case_description_train_set.csv\"\n",
    "CALC_TEST  = \"calc_case_description_test_set.csv\""
   ]
  },
  {
   "cell_type": "markdown",
   "metadata": {},
   "source": [
    "#### Add the column _subset_ in order to remember the original split"
   ]
  },
  {
   "cell_type": "code",
   "execution_count": 31,
   "metadata": {
    "collapsed": false,
    "jupyter": {
     "outputs_hidden": false
    }
   },
   "outputs": [],
   "source": [
    "mass_train_df = pd.read_csv(DATA_PATH/MASS_TRAIN)\n",
    "mass_train_df['subset'] = 'train'\n",
    "\n",
    "mass_test_df = pd.read_csv(DATA_PATH/MASS_TEST)\n",
    "mass_test_df['subset'] = 'test'\n",
    "\n",
    "calc_train_df = pd.read_csv(DATA_PATH/CALC_TRAIN)\n",
    "calc_train_df['subset'] = 'train'\n",
    "\n",
    "calc_test_df = pd.read_csv(DATA_PATH/CALC_TEST)\n",
    "calc_test_df['subset'] = 'test'"
   ]
  },
  {
   "cell_type": "markdown",
   "metadata": {},
   "source": [
    "#### Plot some statistics for a quick overview"
   ]
  },
  {
   "cell_type": "code",
   "execution_count": 32,
   "metadata": {
    "collapsed": false,
    "jupyter": {
     "outputs_hidden": false
    }
   },
   "outputs": [
    {
     "name": "stdout",
     "output_type": "stream",
     "text": [
      "<class 'pandas.core.frame.DataFrame'>\n",
      "RangeIndex: 3568 entries, 0 to 3567\n",
      "Data columns (total 19 columns):\n",
      " #   Column                   Non-Null Count  Dtype  \n",
      "---  ------                   --------------  -----  \n",
      " 0   index                    3568 non-null   int64  \n",
      " 1   patient_id               3568 non-null   object \n",
      " 2   breast_density           1696 non-null   float64\n",
      " 3   left or right breast     3568 non-null   object \n",
      " 4   image view               3568 non-null   object \n",
      " 5   abnormality id           3568 non-null   int64  \n",
      " 6   abnormality type         3568 non-null   object \n",
      " 7   mass shape               1692 non-null   object \n",
      " 8   mass margins             1636 non-null   object \n",
      " 9   assessment               3568 non-null   int64  \n",
      " 10  pathology                3568 non-null   object \n",
      " 11  subtlety                 3568 non-null   int64  \n",
      " 12  image file path          3568 non-null   object \n",
      " 13  cropped image file path  3568 non-null   object \n",
      " 14  ROI mask file path       3568 non-null   object \n",
      " 15  subset                   3568 non-null   object \n",
      " 16  breast density           1872 non-null   float64\n",
      " 17  calc type                1848 non-null   object \n",
      " 18  calc distribution        1433 non-null   object \n",
      "dtypes: float64(2), int64(4), object(13)\n",
      "memory usage: 529.8+ KB\n"
     ]
    }
   ],
   "source": [
    "data_df = pd.concat([mass_train_df, calc_train_df, mass_test_df, calc_test_df], sort=False).reset_index()\n",
    "data_df.info()"
   ]
  },
  {
   "cell_type": "code",
   "execution_count": 33,
   "metadata": {
    "collapsed": false,
    "jupyter": {
     "outputs_hidden": false
    }
   },
   "outputs": [
    {
     "name": "stdout",
     "output_type": "stream",
     "text": [
      "# unique patients 1566\n",
      "# abnormality type 2 ['mass' 'calcification']\n",
      "# image view 2 ['CC' 'MLO']\n",
      "# pathologies 3 ['MALIGNANT' 'BENIGN' 'BENIGN_WITHOUT_CALLBACK']\n"
     ]
    }
   ],
   "source": [
    "print(\"# unique patients\", len(data_df['patient_id'].unique()))\n",
    "print(\"# abnormality type\", len(data_df['abnormality type'].unique()), data_df['abnormality type'].unique())\n",
    "print(\"# image view\", len(data_df['image view'].unique()), data_df['image view'].unique())\n",
    "print(\"# pathologies\", len(data_df['pathology'].unique()), data_df['pathology'].unique())"
   ]
  },
  {
   "cell_type": "code",
   "execution_count": 34,
   "metadata": {
    "collapsed": false,
    "jupyter": {
     "outputs_hidden": false
    }
   },
   "outputs": [
    {
     "data": {
      "text/plain": [
       "Text(0, 0.5, 'Nr of patients')"
      ]
     },
     "execution_count": 34,
     "metadata": {},
     "output_type": "execute_result"
    },
    {
     "data": {
      "image/png": "[encoded data removed]",
      "text/plain": [
       "<Figure size 504x360 with 1 Axes>"
      ]
     },
     "metadata": {
      "needs_background": "light"
     },
     "output_type": "display_data"
    }
   ],
   "source": [
    "_df = data_df[['patient_id', 'abnormality type']].drop_duplicates().groupby('abnormality type').count()\n",
    "ax = _df.unstack('abnormality type').plot(kind='bar', figsize=(7, 5))\n",
    "ax.set_title(\"Nr of patients for each abnormality type\", fontsize=14)\n",
    "ax.set_xlabel(\"Abnormality type\", fontsize=14)\n",
    "ax.set_xticklabels(_df.index)\n",
    "ax.set_ylabel(\"Nr of patients\", fontsize=14)"
   ]
  },
  {
   "cell_type": "code",
   "execution_count": 35,
   "metadata": {
    "collapsed": false,
    "jupyter": {
     "outputs_hidden": false
    }
   },
   "outputs": [
    {
     "data": {
      "text/plain": [
       "Text(0, 0.5, 'Nr of patients')"
      ]
     },
     "execution_count": 35,
     "metadata": {},
     "output_type": "execute_result"
    },
    {
     "data": {
      "image/png": "[encoded data removed]",
      "text/plain": [
       "<Figure size 504x360 with 1 Axes>"
      ]
     },
     "metadata": {
      "needs_background": "light"
     },
     "output_type": "display_data"
    }
   ],
   "source": [
    "_df = data_df[['patient_id', 'subset']].drop_duplicates().groupby('subset').count()\n",
    "ax = _df.unstack('subset').plot(kind='bar', figsize=(7, 5))\n",
    "ax.set_title(\"Nr of patients in each subset\", fontsize=14)\n",
    "ax.set_xlabel(\"Subset\", fontsize=14)\n",
    "ax.set_xticklabels(_df.index)\n",
    "ax.set_ylabel(\"Nr of patients\", fontsize=14)"
   ]
  },
  {
   "cell_type": "markdown",
   "metadata": {},
   "source": [
    "#### Select only the relevant information for the segmentation task"
   ]
  },
  {
   "cell_type": "code",
   "execution_count": 37,
   "metadata": {
    "collapsed": false,
    "jupyter": {
     "outputs_hidden": false
    }
   },
   "outputs": [],
   "source": [
    "COLS = [\"patient_id\", \"left or right breast\", \"image view\", \"abnormality id\", \"abnormality type\", \"pathology\", \"image file path\", \"ROI mask file path\", \"cropped image file path\", \"subset\"]\n",
    "data_df = data_df[COLS]"
   ]
  },
  {
   "cell_type": "code",
   "execution_count": 38,
   "metadata": {
    "collapsed": false,
    "jupyter": {
     "outputs_hidden": false
    }
   },
   "outputs": [
    {
     "data": {
      "text/html": [
       "<div>\n",
       "<style scoped>\n",
       "    .dataframe tbody tr th:only-of-type {\n",
       "        vertical-align: middle;\n",
       "    }\n",
       "\n",
       "    .dataframe tbody tr th {\n",
       "        vertical-align: top;\n",
       "    }\n",
       "\n",
       "    .dataframe thead th {\n",
       "        text-align: right;\n",
       "    }\n",
       "</style>\n",
       "<table border=\"1\" class=\"dataframe\">\n",
       "  <thead>\n",
       "    <tr style=\"text-align: right;\">\n",
       "      <th></th>\n",
       "      <th>patient_id</th>\n",
       "      <th>left or right breast</th>\n",
       "      <th>image view</th>\n",
       "      <th>abnormality id</th>\n",
       "      <th>abnormality type</th>\n",
       "      <th>pathology</th>\n",
       "      <th>image file path</th>\n",
       "      <th>ROI mask file path</th>\n",
       "      <th>cropped image file path</th>\n",
       "      <th>subset</th>\n",
       "    </tr>\n",
       "  </thead>\n",
       "  <tbody>\n",
       "    <tr>\n",
       "      <th>0</th>\n",
       "      <td>P_00001</td>\n",
       "      <td>LEFT</td>\n",
       "      <td>CC</td>\n",
       "      <td>1</td>\n",
       "      <td>mass</td>\n",
       "      <td>MALIGNANT</td>\n",
       "      <td>Mass-Training_P_00001_LEFT_CC/1.3.6.1.4.1.9590...</td>\n",
       "      <td>Mass-Training_P_00001_LEFT_CC_1/1.3.6.1.4.1.95...</td>\n",
       "      <td>Mass-Training_P_00001_LEFT_CC_1/1.3.6.1.4.1.95...</td>\n",
       "      <td>train</td>\n",
       "    </tr>\n",
       "    <tr>\n",
       "      <th>1</th>\n",
       "      <td>P_00001</td>\n",
       "      <td>LEFT</td>\n",
       "      <td>MLO</td>\n",
       "      <td>1</td>\n",
       "      <td>mass</td>\n",
       "      <td>MALIGNANT</td>\n",
       "      <td>Mass-Training_P_00001_LEFT_MLO/1.3.6.1.4.1.959...</td>\n",
       "      <td>Mass-Training_P_00001_LEFT_MLO_1/1.3.6.1.4.1.9...</td>\n",
       "      <td>Mass-Training_P_00001_LEFT_MLO_1/1.3.6.1.4.1.9...</td>\n",
       "      <td>train</td>\n",
       "    </tr>\n",
       "    <tr>\n",
       "      <th>2</th>\n",
       "      <td>P_00004</td>\n",
       "      <td>LEFT</td>\n",
       "      <td>CC</td>\n",
       "      <td>1</td>\n",
       "      <td>mass</td>\n",
       "      <td>BENIGN</td>\n",
       "      <td>Mass-Training_P_00004_LEFT_CC/1.3.6.1.4.1.9590...</td>\n",
       "      <td>Mass-Training_P_00004_LEFT_CC_1/1.3.6.1.4.1.95...</td>\n",
       "      <td>Mass-Training_P_00004_LEFT_CC_1/1.3.6.1.4.1.95...</td>\n",
       "      <td>train</td>\n",
       "    </tr>\n",
       "    <tr>\n",
       "      <th>3</th>\n",
       "      <td>P_00004</td>\n",
       "      <td>LEFT</td>\n",
       "      <td>MLO</td>\n",
       "      <td>1</td>\n",
       "      <td>mass</td>\n",
       "      <td>BENIGN</td>\n",
       "      <td>Mass-Training_P_00004_LEFT_MLO/1.3.6.1.4.1.959...</td>\n",
       "      <td>Mass-Training_P_00004_LEFT_MLO_1/1.3.6.1.4.1.9...</td>\n",
       "      <td>Mass-Training_P_00004_LEFT_MLO_1/1.3.6.1.4.1.9...</td>\n",
       "      <td>train</td>\n",
       "    </tr>\n",
       "    <tr>\n",
       "      <th>4</th>\n",
       "      <td>P_00004</td>\n",
       "      <td>RIGHT</td>\n",
       "      <td>MLO</td>\n",
       "      <td>1</td>\n",
       "      <td>mass</td>\n",
       "      <td>BENIGN</td>\n",
       "      <td>Mass-Training_P_00004_RIGHT_MLO/1.3.6.1.4.1.95...</td>\n",
       "      <td>Mass-Training_P_00004_RIGHT_MLO_1/1.3.6.1.4.1....</td>\n",
       "      <td>Mass-Training_P_00004_RIGHT_MLO_1/1.3.6.1.4.1....</td>\n",
       "      <td>train</td>\n",
       "    </tr>\n",
       "    <tr>\n",
       "      <th>...</th>\n",
       "      <td>...</td>\n",
       "      <td>...</td>\n",
       "      <td>...</td>\n",
       "      <td>...</td>\n",
       "      <td>...</td>\n",
       "      <td>...</td>\n",
       "      <td>...</td>\n",
       "      <td>...</td>\n",
       "      <td>...</td>\n",
       "      <td>...</td>\n",
       "    </tr>\n",
       "    <tr>\n",
       "      <th>3563</th>\n",
       "      <td>P_02464</td>\n",
       "      <td>RIGHT</td>\n",
       "      <td>MLO</td>\n",
       "      <td>1</td>\n",
       "      <td>calcification</td>\n",
       "      <td>MALIGNANT</td>\n",
       "      <td>Calc-Test_P_02464_RIGHT_MLO/1.3.6.1.4.1.9590.1...</td>\n",
       "      <td>Calc-Test_P_02464_RIGHT_MLO_1/1.3.6.1.4.1.9590...</td>\n",
       "      <td>Calc-Test_P_02464_RIGHT_MLO_1/1.3.6.1.4.1.9590...</td>\n",
       "      <td>test</td>\n",
       "    </tr>\n",
       "    <tr>\n",
       "      <th>3564</th>\n",
       "      <td>P_02498</td>\n",
       "      <td>RIGHT</td>\n",
       "      <td>CC</td>\n",
       "      <td>1</td>\n",
       "      <td>calcification</td>\n",
       "      <td>BENIGN</td>\n",
       "      <td>Calc-Test_P_02498_RIGHT_CC/1.3.6.1.4.1.9590.10...</td>\n",
       "      <td>Calc-Test_P_02498_RIGHT_CC_1/1.3.6.1.4.1.9590....</td>\n",
       "      <td>Calc-Test_P_02498_RIGHT_CC_1/1.3.6.1.4.1.9590....</td>\n",
       "      <td>test</td>\n",
       "    </tr>\n",
       "    <tr>\n",
       "      <th>3565</th>\n",
       "      <td>P_02498</td>\n",
       "      <td>RIGHT</td>\n",
       "      <td>MLO</td>\n",
       "      <td>1</td>\n",
       "      <td>calcification</td>\n",
       "      <td>BENIGN</td>\n",
       "      <td>Calc-Test_P_02498_RIGHT_MLO/1.3.6.1.4.1.9590.1...</td>\n",
       "      <td>Calc-Test_P_02498_RIGHT_MLO_1/1.3.6.1.4.1.9590...</td>\n",
       "      <td>Calc-Test_P_02498_RIGHT_MLO_1/1.3.6.1.4.1.9590...</td>\n",
       "      <td>test</td>\n",
       "    </tr>\n",
       "    <tr>\n",
       "      <th>3566</th>\n",
       "      <td>P_02501</td>\n",
       "      <td>RIGHT</td>\n",
       "      <td>CC</td>\n",
       "      <td>1</td>\n",
       "      <td>calcification</td>\n",
       "      <td>MALIGNANT</td>\n",
       "      <td>Calc-Test_P_02501_RIGHT_CC/1.3.6.1.4.1.9590.10...</td>\n",
       "      <td>Calc-Test_P_02501_RIGHT_CC_1/1.3.6.1.4.1.9590....</td>\n",
       "      <td>Calc-Test_P_02501_RIGHT_CC_1/1.3.6.1.4.1.9590....</td>\n",
       "      <td>test</td>\n",
       "    </tr>\n",
       "    <tr>\n",
       "      <th>3567</th>\n",
       "      <td>P_02501</td>\n",
       "      <td>RIGHT</td>\n",
       "      <td>MLO</td>\n",
       "      <td>1</td>\n",
       "      <td>calcification</td>\n",
       "      <td>MALIGNANT</td>\n",
       "      <td>Calc-Test_P_02501_RIGHT_MLO/1.3.6.1.4.1.9590.1...</td>\n",
       "      <td>Calc-Test_P_02501_RIGHT_MLO_1/1.3.6.1.4.1.9590...</td>\n",
       "      <td>Calc-Test_P_02501_RIGHT_MLO_1/1.3.6.1.4.1.9590...</td>\n",
       "      <td>test</td>\n",
       "    </tr>\n",
       "  </tbody>\n",
       "</table>\n",
       "<p>3568 rows × 10 columns</p>\n",
       "</div>"
      ],
      "text/plain": [
       "     patient_id left or right breast image view  abnormality id  \\\n",
       "0       P_00001                 LEFT         CC               1   \n",
       "1       P_00001                 LEFT        MLO               1   \n",
       "2       P_00004                 LEFT         CC               1   \n",
       "3       P_00004                 LEFT        MLO               1   \n",
       "4       P_00004                RIGHT        MLO               1   \n",
       "...         ...                  ...        ...             ...   \n",
       "3563    P_02464                RIGHT        MLO               1   \n",
       "3564    P_02498                RIGHT         CC               1   \n",
       "3565    P_02498                RIGHT        MLO               1   \n",
       "3566    P_02501                RIGHT         CC               1   \n",
       "3567    P_02501                RIGHT        MLO               1   \n",
       "\n",
       "     abnormality type  pathology  \\\n",
       "0                mass  MALIGNANT   \n",
       "1                mass  MALIGNANT   \n",
       "2                mass     BENIGN   \n",
       "3                mass     BENIGN   \n",
       "4                mass     BENIGN   \n",
       "...               ...        ...   \n",
       "3563    calcification  MALIGNANT   \n",
       "3564    calcification     BENIGN   \n",
       "3565    calcification     BENIGN   \n",
       "3566    calcification  MALIGNANT   \n",
       "3567    calcification  MALIGNANT   \n",
       "\n",
       "                                        image file path  \\\n",
       "0     Mass-Training_P_00001_LEFT_CC/1.3.6.1.4.1.9590...   \n",
       "1     Mass-Training_P_00001_LEFT_MLO/1.3.6.1.4.1.959...   \n",
       "2     Mass-Training_P_00004_LEFT_CC/1.3.6.1.4.1.9590...   \n",
       "3     Mass-Training_P_00004_LEFT_MLO/1.3.6.1.4.1.959...   \n",
       "4     Mass-Training_P_00004_RIGHT_MLO/1.3.6.1.4.1.95...   \n",
       "...                                                 ...   \n",
       "3563  Calc-Test_P_02464_RIGHT_MLO/1.3.6.1.4.1.9590.1...   \n",
       "3564  Calc-Test_P_02498_RIGHT_CC/1.3.6.1.4.1.9590.10...   \n",
       "3565  Calc-Test_P_02498_RIGHT_MLO/1.3.6.1.4.1.9590.1...   \n",
       "3566  Calc-Test_P_02501_RIGHT_CC/1.3.6.1.4.1.9590.10...   \n",
       "3567  Calc-Test_P_02501_RIGHT_MLO/1.3.6.1.4.1.9590.1...   \n",
       "\n",
       "                                     ROI mask file path  \\\n",
       "0     Mass-Training_P_00001_LEFT_CC_1/1.3.6.1.4.1.95...   \n",
       "1     Mass-Training_P_00001_LEFT_MLO_1/1.3.6.1.4.1.9...   \n",
       "2     Mass-Training_P_00004_LEFT_CC_1/1.3.6.1.4.1.95...   \n",
       "3     Mass-Training_P_00004_LEFT_MLO_1/1.3.6.1.4.1.9...   \n",
       "4     Mass-Training_P_00004_RIGHT_MLO_1/1.3.6.1.4.1....   \n",
       "...                                                 ...   \n",
       "3563  Calc-Test_P_02464_RIGHT_MLO_1/1.3.6.1.4.1.9590...   \n",
       "3564  Calc-Test_P_02498_RIGHT_CC_1/1.3.6.1.4.1.9590....   \n",
       "3565  Calc-Test_P_02498_RIGHT_MLO_1/1.3.6.1.4.1.9590...   \n",
       "3566  Calc-Test_P_02501_RIGHT_CC_1/1.3.6.1.4.1.9590....   \n",
       "3567  Calc-Test_P_02501_RIGHT_MLO_1/1.3.6.1.4.1.9590...   \n",
       "\n",
       "                                cropped image file path subset  \n",
       "0     Mass-Training_P_00001_LEFT_CC_1/1.3.6.1.4.1.95...  train  \n",
       "1     Mass-Training_P_00001_LEFT_MLO_1/1.3.6.1.4.1.9...  train  \n",
       "2     Mass-Training_P_00004_LEFT_CC_1/1.3.6.1.4.1.95...  train  \n",
       "3     Mass-Training_P_00004_LEFT_MLO_1/1.3.6.1.4.1.9...  train  \n",
       "4     Mass-Training_P_00004_RIGHT_MLO_1/1.3.6.1.4.1....  train  \n",
       "...                                                 ...    ...  \n",
       "3563  Calc-Test_P_02464_RIGHT_MLO_1/1.3.6.1.4.1.9590...   test  \n",
       "3564  Calc-Test_P_02498_RIGHT_CC_1/1.3.6.1.4.1.9590....   test  \n",
       "3565  Calc-Test_P_02498_RIGHT_MLO_1/1.3.6.1.4.1.9590...   test  \n",
       "3566  Calc-Test_P_02501_RIGHT_CC_1/1.3.6.1.4.1.9590....   test  \n",
       "3567  Calc-Test_P_02501_RIGHT_MLO_1/1.3.6.1.4.1.9590...   test  \n",
       "\n",
       "[3568 rows x 10 columns]"
      ]
     },
     "execution_count": 38,
     "metadata": {},
     "output_type": "execute_result"
    }
   ],
   "source": [
    "data_df"
   ]
  },
  {
   "cell_type": "markdown",
   "metadata": {},
   "source": [
    "#### Save the new .csv file that contains all the mammograms and masks"
   ]
  },
  {
   "cell_type": "code",
   "execution_count": 39,
   "metadata": {
    "collapsed": false,
    "jupyter": {
     "outputs_hidden": false
    }
   },
   "outputs": [],
   "source": [
    "data_df.to_csv(DATA_PATH/\"all_data.csv\", index=False)"
   ]
  },
  {
   "cell_type": "code",
   "execution_count": null,
   "metadata": {
    "collapsed": false,
    "jupyter": {
     "outputs_hidden": false
    }
   },
   "outputs": [],
   "source": []
  }
 ],
 "metadata": {
  "kernelspec": {
   "display_name": "Python 3",
   "language": "python",
   "name": "python3"
  },
  "language_info": {
   "codemirror_mode": {
    "name": "ipython",
    "version": 3
   },
   "file_extension": ".py",
   "mimetype": "text/x-python",
   "name": "python",
   "nbconvert_exporter": "python",
   "pygments_lexer": "ipython3",
   "version": "3.7.7"
  }
 },
 "nbformat": 4,
 "nbformat_minor": 4
}
