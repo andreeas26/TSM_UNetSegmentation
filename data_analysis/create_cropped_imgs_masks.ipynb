{
 "cells": [
  {
   "cell_type": "markdown",
   "metadata": {},
   "source": [
    "## Crop images and masks"
   ]
  },
  {
   "cell_type": "code",
   "execution_count": 18,
   "metadata": {},
   "outputs": [],
   "source": [
    "import os\n",
    "import pathlib as pt\n",
    "import pandas as pd\n",
    "import matplotlib.pyplot as plt\n",
    "import cv2\n",
    "from tqdm import tqdm"
   ]
  },
  {
   "cell_type": "markdown",
   "metadata": {},
   "source": [
    "#### Define helper functions"
   ]
  },
  {
   "cell_type": "code",
   "execution_count": 2,
   "metadata": {},
   "outputs": [],
   "source": [
    "def get_dim_tumor(input_mask, show=False):\n",
    "    \"\"\"\n",
    "    Get the bounding box around the tumor\n",
    "    \n",
    "    Args:\n",
    "        input_mask(numpy array): contains the mask image\n",
    "        show(bool): whether to display the rectangle on the image or not\n",
    "        \n",
    "    \"\"\"\n",
    "    \n",
    "    if len(input_mask.shape) == 3:\n",
    "        input_mask = cv2.cvtColor(input_mask, cv2.COLOR_BGR2GRAY)\n",
    "    white_area = cv2.findNonZero(input_mask)\n",
    "    x, y, w, h = cv2.boundingRect(white_area)\n",
    "    if show:\n",
    "        print(\"[INFO] Bbox:\", x, y, w, h)\n",
    "        display_mask = cv2.cvtColor(input_mask, cv2.COLOR_GRAY2RGB)\n",
    "        cv2.rectangle(display_mask, (x, y), (x + w, y + h), (0, 255, 0), 2)\n",
    "        cv2.imwrite(\"bbox.jpg\", display_mask)\n",
    "        plt.imshow(display_mask)\n",
    "    return x, y, w, h"
   ]
  },
  {
   "cell_type": "code",
   "execution_count": 3,
   "metadata": {},
   "outputs": [],
   "source": [
    "def get_center_rect(x, y, w, h ):\n",
    "    \"\"\"\n",
    "    Given a bounding box return its center\n",
    "    Args:\n",
    "        x(int): x-coordinate of the top left corner\n",
    "        y(int): y-coordinate of the top left corner\n",
    "        w(int): width\n",
    "        h(int): height\n",
    "    \n",
    "    Returns:\n",
    "        center(float): center of the rectangle\n",
    "        \n",
    "    \"\"\"\n",
    "    return (x + w * 0.5, y + h * 0.5)"
   ]
  },
  {
   "cell_type": "code",
   "execution_count": 4,
   "metadata": {},
   "outputs": [],
   "source": [
    "def get_img_orientation(input_img, show=False):\n",
    "    \"\"\"\n",
    "    Determine the breast position in the image: left or right\n",
    "    \n",
    "    Args:\n",
    "        input_img(numpy array): the image scan\n",
    "        show(bool): whether to display the image or not\n",
    "        \n",
    "    \"\"\"\n",
    "    \n",
    "    width = 150\n",
    "    pos_left = 10\n",
    "    pos_right = input_img.shape[1] - 10\n",
    "    \n",
    "    rect_left = input_img[:, pos_left:width]\n",
    "    rect_right = input_img[:, (pos_right - width):pos_right]\n",
    "    \n",
    "    m_left = rect_left.mean()\n",
    "    m_right = rect_right.mean()\n",
    "    \n",
    "    if show:\n",
    "        plt.imshow(rect_left, cmap=\"gray\")\n",
    "        plt.show()\n",
    "        plt.imshow(rect_right, cmap=\"gray\")\n",
    "        plt.show()\n",
    "        print(m_left, m_right)\n",
    "\n",
    "    orientation = None\n",
    "    if m_left > m_right:\n",
    "        orientation = \"left\"\n",
    "    else:\n",
    "        orientation = \"right\"\n",
    "        \n",
    "    return orientation"
   ]
  },
  {
   "cell_type": "code",
   "execution_count": 21,
   "metadata": {},
   "outputs": [],
   "source": [
    "def get_patches(img, mask, img_name, patch_dim=1024, debug=False):\n",
    "    \"\"\"\n",
    "    Compute the patch enclosing the tumor\n",
    "    Args:\n",
    "        img(numpy array): the input image of the breast\n",
    "        mask(numpy array): the mask of the tumor\n",
    "        img_name(str): image filename\n",
    "        patch_dim(int): dimension of the output patch, default 1024\n",
    "        debug(bool): whether to save an image with the patch and the tumor center drawn on the mask\n",
    "    \n",
    "    Returns:\n",
    "        roi_crop(numpy array): cropped input image\n",
    "        mask_crop(numpy array): cropped input mask\n",
    "        \n",
    "    \"\"\"\n",
    "    \n",
    "    # get bbox of the tumor\n",
    "    x, y, w, h = get_dim_tumor(mask)\n",
    "    center = get_center_rect(x, y, w, h )\n",
    "    \n",
    "    orientation = get_img_orientation(img)\n",
    "    \n",
    "    # construct patch around center\n",
    "    patch_tl_x = int(center[0] - patch_dim * 0.5)\n",
    "    patch_tl_y = int(center[1] - patch_dim * 0.5)\n",
    "    patch_br_x = patch_tl_x + patch_dim\n",
    "    patch_br_y = patch_tl_y + patch_dim\n",
    "\n",
    "    if patch_tl_x < 0:\n",
    "        if orientation == 'right':\n",
    "            # length in pixels of the borders at each side of the image: top, bottom, left, right \n",
    "            left_pad = abs(patch_tl_x)\n",
    "            img = cv2.copyMakeBorder(img, 0, 0, left_pad, 0, cv2.BORDER_CONSTANT, value=(0, 0, 0))\n",
    "            mask = cv2.copyMakeBorder(mask, 0, 0, left_pad, 0, cv2.BORDER_CONSTANT, value=(0, 0, 0))\n",
    "        patch_tl_x = 0\n",
    "            \n",
    "\n",
    "    if patch_tl_y < 0:\n",
    "        patch_tl_y = 0\n",
    "\n",
    "    if patch_br_x > mask.shape[1]:\n",
    "        if orientation == 'left':\n",
    "            right_pad = patch_br_x - mask.shape[1]\n",
    "            img = cv2.copyMakeBorder(img, 0, 0, 0, right_pad, cv2.BORDER_CONSTANT, value=(0, 0, 0))\n",
    "            mask = cv2.copyMakeBorder(mask, 0, 0, 0, right_pad, cv2.BORDER_CONSTANT, value=(0, 0, 0))\n",
    "        patch_br_x = mask.shape[1]\n",
    "\n",
    "    if patch_br_y > mask.shape[0]:\n",
    "        patch_br_y = mask.shape[0]\n",
    "\n",
    "#     print(\"Crop rect coord\", patch_tl_x, patch_tl_y, patch_br_x, patch_br_y)\n",
    "    if debug == True:\n",
    "        mask2 = mask.copy()\n",
    "        img2 = img.copy()\n",
    "        preview_folder = pt.Path.cwd()/\"preview\"\n",
    "        if not preview_folder.exists():\n",
    "            os.mkdir(preview_folder)\n",
    "            \n",
    "        \n",
    "        cv2.circle(mask2, (int(center[0]), int(center[1])), 10, (0, 0, 255), -1)\n",
    "        cv2.rectangle(mask2, (patch_tl_x, patch_tl_y), (patch_br_x, patch_br_y), (0, 0, 255), 3)\n",
    "        mask_path = preview_folder/\"mask_{}.jpg\".format(img_name)\n",
    "        cv2.imwrite(str(mask_path), mask2)\n",
    "        \n",
    "        cv2.circle(img2, (int(center[0]), int(center[1])), 10, (0, 0, 255), -1)\n",
    "        cv2.rectangle(img2, (patch_tl_x, patch_tl_y), (patch_br_x, patch_br_y), (0, 0, 255), 3)\n",
    "        image_path = preview_folder/\"img_{}\".format(img_name)\n",
    "        cv2.imwrite(str(image_path), img2)\n",
    "        print(\"[INFO] {}: \".format(img_name))\n",
    "        print(\"         bbox:\", x, y, w, h)\n",
    "        print(\"         patch:\", patch_tl_x, patch_tl_y, patch_br_x, patch_br_y)\n",
    "        \n",
    "    roi_crop = img[patch_tl_y:patch_br_y, patch_tl_x:patch_br_x]\n",
    "    mask_crop = mask[patch_tl_y:patch_br_y, patch_tl_x:patch_br_x]\n",
    "    \n",
    "    return roi_crop, mask_crop"
   ]
  },
  {
   "cell_type": "markdown",
   "metadata": {},
   "source": [
    "#### Input paths to the data and the patch dimension"
   ]
  },
  {
   "cell_type": "code",
   "execution_count": 13,
   "metadata": {},
   "outputs": [],
   "source": [
    "DATA_PATH   = pt.Path(r\"D:\\work\\BreastTumorSegmentation\\dataset\\original_size\")\n",
    "OUTPUT_PATH = pt.Path(r\"D:\\work\\BreastTumorSegmentation\\dataset\\cropped_size\")\n",
    "IMGS_DIR    = \"images\"\n",
    "MASKS_DIR   = \"masks\"\n",
    "IMGS_CSV    = DATA_PATH/\"images_original.csv\"\n",
    "MASKS_CSV   = DATA_PATH/\"masks_original.csv\"\n",
    "PATCH_DIM   = 1024"
   ]
  },
  {
   "cell_type": "code",
   "execution_count": 7,
   "metadata": {},
   "outputs": [],
   "source": [
    "imgs_df = pd.read_csv(IMGS_CSV)\n",
    "masks_df = pd.read_csv(MASKS_CSV)"
   ]
  },
  {
   "cell_type": "code",
   "execution_count": 22,
   "metadata": {},
   "outputs": [
    {
     "name": "stderr",
     "output_type": "stream",
     "text": [
      "Cropping:   9%|█████▊                                                              | 305/3568 [01:43<16:29,  3.30img/s]"
     ]
    },
    {
     "name": "stdout",
     "output_type": "stream",
     "text": [
      "CALC_P_00353_LEFT_CC_M_2.jpg\n"
     ]
    },
    {
     "name": "stderr",
     "output_type": "stream",
     "text": [
      "Cropping:   9%|█████▊                                                              | 306/3568 [01:44<19:51,  2.74img/s]"
     ]
    },
    {
     "name": "stdout",
     "output_type": "stream",
     "text": [
      "CALC_P_00353_LEFT_MLO_M_2.jpg\n"
     ]
    },
    {
     "name": "stderr",
     "output_type": "stream",
     "text": [
      "Cropping:  54%|████████████████████████████████████                               | 1921/3568 [10:45<09:12,  2.98img/s]"
     ]
    },
    {
     "name": "stdout",
     "output_type": "stream",
     "text": [
      "MASS_P_00059_LEFT_CC_M_1.jpg\n",
      "MASS_P_00059_LEFT_MLO_M_1.jpg\n"
     ]
    },
    {
     "name": "stderr",
     "output_type": "stream",
     "text": [
      "Cropping:  55%|█████████████████████████████████████                              | 1973/3568 [11:04<10:29,  2.53img/s]"
     ]
    },
    {
     "name": "stdout",
     "output_type": "stream",
     "text": [
      "MASS_P_00108_LEFT_CC_B_1.jpg\n",
      "MASS_P_00108_LEFT_MLO_B_1.jpg\n"
     ]
    },
    {
     "name": "stderr",
     "output_type": "stream",
     "text": [
      "Cropping:  56%|█████████████████████████████████████▌                             | 2002/3568 [11:14<08:45,  2.98img/s]"
     ]
    },
    {
     "name": "stdout",
     "output_type": "stream",
     "text": [
      "MASS_P_00145_LEFT_CC_B_1.jpg\n",
      "MASS_P_00145_LEFT_MLO_B_1.jpg\n"
     ]
    },
    {
     "name": "stderr",
     "output_type": "stream",
     "text": [
      "Cropping:  59%|███████████████████████████████████████▋                           | 2115/3568 [11:53<10:10,  2.38img/s]"
     ]
    },
    {
     "name": "stdout",
     "output_type": "stream",
     "text": [
      "MASS_P_00279_LEFT_CC_B_1.jpg\n"
     ]
    },
    {
     "name": "stderr",
     "output_type": "stream",
     "text": [
      "Cropping:  60%|████████████████████████████████████████                           | 2132/3568 [11:58<06:27,  3.71img/s]"
     ]
    },
    {
     "name": "stdout",
     "output_type": "stream",
     "text": [
      "MASS_P_00304_LEFT_MLO_B_1.jpg\n"
     ]
    },
    {
     "name": "stderr",
     "output_type": "stream",
     "text": [
      "Cropping:  62%|█████████████████████████████████████████▎                         | 2202/3568 [12:22<08:48,  2.58img/s]"
     ]
    },
    {
     "name": "stdout",
     "output_type": "stream",
     "text": [
      "MASS_P_00379_LEFT_MLO_B_1.jpg\n",
      "MASS_P_00381_LEFT_CC_B_1.jpg\n",
      "MASS_P_00381_LEFT_MLO_B_1.jpg\n"
     ]
    },
    {
     "name": "stderr",
     "output_type": "stream",
     "text": [
      "Cropping:  62%|█████████████████████████████████████████▎                         | 2203/3568 [12:23<15:12,  1.50img/s]"
     ]
    },
    {
     "name": "stdout",
     "output_type": "stream",
     "text": [
      "MASS_P_00384_RIGHT_CC_B_1.jpg\n",
      "MASS_P_00384_RIGHT_MLO_B_1.jpg\n"
     ]
    },
    {
     "name": "stderr",
     "output_type": "stream",
     "text": [
      "Cropping:  63%|██████████████████████████████████████████▎                        | 2253/3568 [12:40<06:29,  3.37img/s]"
     ]
    },
    {
     "name": "stdout",
     "output_type": "stream",
     "text": [
      "MASS_P_00423_RIGHT_CC_M_1.jpg\n"
     ]
    },
    {
     "name": "stderr",
     "output_type": "stream",
     "text": [
      "Cropping:  64%|██████████████████████████████████████████▋                        | 2270/3568 [12:46<06:54,  3.13img/s]"
     ]
    },
    {
     "name": "stdout",
     "output_type": "stream",
     "text": [
      "MASS_P_00436_LEFT_CC_B_1.jpg\n",
      "MASS_P_00436_LEFT_MLO_B_1.jpg\n"
     ]
    },
    {
     "name": "stderr",
     "output_type": "stream",
     "text": [
      "Cropping:  64%|██████████████████████████████████████████▉                        | 2284/3568 [12:51<07:54,  2.71img/s]"
     ]
    },
    {
     "name": "stdout",
     "output_type": "stream",
     "text": [
      "MASS_P_00453_LEFT_CC_B_1.jpg\n",
      "MASS_P_00453_LEFT_MLO_B_1.jpg\n"
     ]
    },
    {
     "name": "stderr",
     "output_type": "stream",
     "text": [
      "Cropping:  70%|██████████████████████████████████████████████▌                    | 2481/3568 [14:02<07:27,  2.43img/s]"
     ]
    },
    {
     "name": "stdout",
     "output_type": "stream",
     "text": [
      "MASS_P_00687_LEFT_CC_B_1.jpg\n",
      "MASS_P_00687_LEFT_MLO_B_1.jpg\n"
     ]
    },
    {
     "name": "stderr",
     "output_type": "stream",
     "text": [
      "Cropping:  70%|██████████████████████████████████████████████▋                    | 2483/3568 [14:03<07:58,  2.27img/s]"
     ]
    },
    {
     "name": "stdout",
     "output_type": "stream",
     "text": [
      "MASS_P_00694_RIGHT_CC_B_1.jpg\n",
      "MASS_P_00694_RIGHT_MLO_B_1.jpg\n"
     ]
    },
    {
     "name": "stderr",
     "output_type": "stream",
     "text": [
      "Cropping:  70%|██████████████████████████████████████████████▋                    | 2487/3568 [14:05<08:04,  2.23img/s]"
     ]
    },
    {
     "name": "stdout",
     "output_type": "stream",
     "text": [
      "MASS_P_00699_RIGHT_CC_B_1.jpg\n",
      "MASS_P_00699_RIGHT_MLO_B_1.jpg\n"
     ]
    },
    {
     "name": "stderr",
     "output_type": "stream",
     "text": [
      "Cropping:  70%|██████████████████████████████████████████████▊                    | 2491/3568 [14:07<09:04,  1.98img/s]"
     ]
    },
    {
     "name": "stdout",
     "output_type": "stream",
     "text": [
      "MASS_P_00703_LEFT_CC_B_1.jpg\n",
      "MASS_P_00703_LEFT_MLO_B_1.jpg\n"
     ]
    },
    {
     "name": "stderr",
     "output_type": "stream",
     "text": [
      "Cropping:  70%|███████████████████████████████████████████████                    | 2506/3568 [14:12<07:15,  2.44img/s]"
     ]
    },
    {
     "name": "stdout",
     "output_type": "stream",
     "text": [
      "MASS_P_00715_RIGHT_CC_B_1.jpg\n",
      "MASS_P_00715_RIGHT_MLO_B_1.jpg\n"
     ]
    },
    {
     "name": "stderr",
     "output_type": "stream",
     "text": [
      "Cropping:  71%|███████████████████████████████████████████████▊                   | 2548/3568 [14:27<06:36,  2.58img/s]"
     ]
    },
    {
     "name": "stdout",
     "output_type": "stream",
     "text": [
      "MASS_P_00765_RIGHT_CC_B_1.jpg\n",
      "MASS_P_00765_RIGHT_MLO_B_1.jpg\n"
     ]
    },
    {
     "name": "stderr",
     "output_type": "stream",
     "text": [
      "Cropping:  73%|████████████████████████████████████████████████▊                  | 2600/3568 [14:43<04:02,  3.99img/s]"
     ]
    },
    {
     "name": "stdout",
     "output_type": "stream",
     "text": [
      "MASS_P_00826_LEFT_CC_B_1.jpg\n",
      "MASS_P_00826_LEFT_MLO_B_1.jpg\n"
     ]
    },
    {
     "name": "stderr",
     "output_type": "stream",
     "text": [
      "Cropping:  73%|█████████████████████████████████████████████████▏                 | 2621/3568 [14:52<06:45,  2.33img/s]"
     ]
    },
    {
     "name": "stdout",
     "output_type": "stream",
     "text": [
      "MASS_P_00859_LEFT_CC_B_1.jpg\n",
      "MASS_P_00859_LEFT_MLO_B_1.jpg\n"
     ]
    },
    {
     "name": "stderr",
     "output_type": "stream",
     "text": [
      "Cropping:  75%|██████████████████████████████████████████████████                 | 2668/3568 [15:08<06:38,  2.26img/s]"
     ]
    },
    {
     "name": "stdout",
     "output_type": "stream",
     "text": [
      "MASS_P_00915_RIGHT_CC_M_1.jpg\n",
      "MASS_P_00915_RIGHT_MLO_M_1.jpg\n"
     ]
    },
    {
     "name": "stderr",
     "output_type": "stream",
     "text": [
      "Cropping:  75%|██████████████████████████████████████████████████▏                | 2672/3568 [15:10<06:30,  2.30img/s]"
     ]
    },
    {
     "name": "stdout",
     "output_type": "stream",
     "text": [
      "MASS_P_00922_RIGHT_CC_B_1.jpg\n",
      "MASS_P_00922_RIGHT_MLO_B_1.jpg\n"
     ]
    },
    {
     "name": "stderr",
     "output_type": "stream",
     "text": [
      "Cropping:  75%|██████████████████████████████████████████████████▏                | 2674/3568 [15:11<06:46,  2.20img/s]"
     ]
    },
    {
     "name": "stdout",
     "output_type": "stream",
     "text": [
      "MASS_P_00927_LEFT_MLO_B_1.jpg\n"
     ]
    },
    {
     "name": "stderr",
     "output_type": "stream",
     "text": [
      "Cropping:  75%|██████████████████████████████████████████████████▌                | 2690/3568 [15:16<04:16,  3.42img/s]"
     ]
    },
    {
     "name": "stdout",
     "output_type": "stream",
     "text": [
      "MASS_P_00949_LEFT_CC_B_1.jpg\n",
      "MASS_P_00949_LEFT_MLO_B_1.jpg\n"
     ]
    },
    {
     "name": "stderr",
     "output_type": "stream",
     "text": [
      "Cropping:  78%|████████████████████████████████████████████████████               | 2774/3568 [15:47<04:31,  2.93img/s]"
     ]
    },
    {
     "name": "stdout",
     "output_type": "stream",
     "text": [
      "MASS_P_01048_RIGHT_CC_B_1.jpg\n",
      "MASS_P_01048_RIGHT_MLO_B_1.jpg\n"
     ]
    },
    {
     "name": "stderr",
     "output_type": "stream",
     "text": [
      "Cropping:  79%|█████████████████████████████████████████████████████              | 2828/3568 [16:07<04:24,  2.79img/s]"
     ]
    },
    {
     "name": "stdout",
     "output_type": "stream",
     "text": [
      "MASS_P_01115_RIGHT_CC_B_1.jpg\n",
      "MASS_P_01115_RIGHT_MLO_B_1.jpg\n"
     ]
    },
    {
     "name": "stderr",
     "output_type": "stream",
     "text": [
      "Cropping:  81%|██████████████████████████████████████████████████████▎            | 2893/3568 [16:29<02:58,  3.78img/s]"
     ]
    },
    {
     "name": "stdout",
     "output_type": "stream",
     "text": [
      "MASS_P_01182_LEFT_CC_B_1.jpg\n",
      "MASS_P_01182_LEFT_MLO_B_1.jpg\n"
     ]
    },
    {
     "name": "stderr",
     "output_type": "stream",
     "text": [
      "Cropping:  83%|███████████████████████████████████████████████████████▎           | 2946/3568 [16:48<02:51,  3.62img/s]"
     ]
    },
    {
     "name": "stdout",
     "output_type": "stream",
     "text": [
      "MASS_P_01243_LEFT_CC_B_1.jpg\n",
      "MASS_P_01243_LEFT_MLO_B_1.jpg\n"
     ]
    },
    {
     "name": "stderr",
     "output_type": "stream",
     "text": [
      "Cropping:  86%|█████████████████████████████████████████████████████████▎         | 3053/3568 [17:26<03:43,  2.30img/s]"
     ]
    },
    {
     "name": "stdout",
     "output_type": "stream",
     "text": [
      "MASS_P_01363_RIGHT_CC_B_1.jpg\n",
      "MASS_P_01363_RIGHT_MLO_B_1.jpg\n"
     ]
    },
    {
     "name": "stderr",
     "output_type": "stream",
     "text": [
      "Cropping:  86%|█████████████████████████████████████████████████████████▌         | 3064/3568 [17:30<02:44,  3.07img/s]"
     ]
    },
    {
     "name": "stdout",
     "output_type": "stream",
     "text": [
      "MASS_P_01378_RIGHT_CC_B_1.jpg\n"
     ]
    },
    {
     "name": "stderr",
     "output_type": "stream",
     "text": [
      "Cropping:  87%|██████████████████████████████████████████████████████████▎        | 3103/3568 [17:44<02:38,  2.94img/s]"
     ]
    },
    {
     "name": "stdout",
     "output_type": "stream",
     "text": [
      "MASS_P_01423_RIGHT_CC_B_1.jpg\n",
      "MASS_P_01423_RIGHT_MLO_B_1.jpg\n"
     ]
    },
    {
     "name": "stderr",
     "output_type": "stream",
     "text": [
      "Cropping:  88%|███████████████████████████████████████████████████████████        | 3143/3568 [17:58<02:02,  3.46img/s]"
     ]
    },
    {
     "name": "stdout",
     "output_type": "stream",
     "text": [
      "MASS_P_01486_RIGHT_CC_B_1.jpg\n",
      "MASS_P_01486_RIGHT_MLO_B_1.jpg\n"
     ]
    },
    {
     "name": "stderr",
     "output_type": "stream",
     "text": [
      "Cropping:  90%|███████████████████████████████████████████████████████████▉       | 3194/3568 [18:15<02:07,  2.94img/s]"
     ]
    },
    {
     "name": "stdout",
     "output_type": "stream",
     "text": [
      "MASS_P_01551_LEFT_CC_B_1.jpg\n"
     ]
    },
    {
     "name": "stderr",
     "output_type": "stream",
     "text": [
      "Cropping:  91%|████████████████████████████████████████████████████████████▋      | 3230/3568 [18:28<01:34,  3.58img/s]"
     ]
    },
    {
     "name": "stdout",
     "output_type": "stream",
     "text": [
      "MASS_P_01595_LEFT_CC_B_1.jpg\n",
      "MASS_P_01595_LEFT_MLO_B_1.jpg\n"
     ]
    },
    {
     "name": "stderr",
     "output_type": "stream",
     "text": [
      "Cropping:  93%|██████████████████████████████████████████████████████████████▌    | 3331/3568 [19:01<01:03,  3.71img/s]"
     ]
    },
    {
     "name": "stdout",
     "output_type": "stream",
     "text": [
      "MASS_P_01686_RIGHT_CC_B_1.jpg\n",
      "MASS_P_01686_RIGHT_MLO_B_1.jpg\n"
     ]
    },
    {
     "name": "stderr",
     "output_type": "stream",
     "text": [
      "Cropping:  94%|██████████████████████████████████████████████████████████████▉    | 3352/3568 [19:10<01:34,  2.28img/s]"
     ]
    },
    {
     "name": "stdout",
     "output_type": "stream",
     "text": [
      "MASS_P_01714_RIGHT_CC_B_1.jpg\n",
      "MASS_P_01714_RIGHT_MLO_B_1.jpg\n"
     ]
    },
    {
     "name": "stderr",
     "output_type": "stream",
     "text": [
      "Cropping:  95%|███████████████████████████████████████████████████████████████▋   | 3389/3568 [19:23<01:14,  2.42img/s]"
     ]
    },
    {
     "name": "stdout",
     "output_type": "stream",
     "text": [
      "MASS_P_01757_RIGHT_CC_B_1.jpg\n",
      "MASS_P_01757_RIGHT_MLO_B_1.jpg\n"
     ]
    },
    {
     "name": "stderr",
     "output_type": "stream",
     "text": [
      "Cropping:  97%|████████████████████████████████████████████████████████████████▊  | 3452/3568 [19:45<00:43,  2.70img/s]"
     ]
    },
    {
     "name": "stdout",
     "output_type": "stream",
     "text": [
      "MASS_P_01831_RIGHT_CC_B_1.jpg\n",
      "MASS_P_01831_RIGHT_MLO_B_1.jpg\n"
     ]
    },
    {
     "name": "stderr",
     "output_type": "stream",
     "text": [
      "Cropping:  98%|█████████████████████████████████████████████████████████████████▍ | 3486/3568 [19:57<00:29,  2.79img/s]"
     ]
    },
    {
     "name": "stdout",
     "output_type": "stream",
     "text": [
      "MASS_P_01908_LEFT_CC_M_1.jpg\n"
     ]
    },
    {
     "name": "stderr",
     "output_type": "stream",
     "text": [
      "Cropping:  98%|█████████████████████████████████████████████████████████████████▍ | 3488/3568 [19:57<00:25,  3.16img/s]"
     ]
    },
    {
     "name": "stdout",
     "output_type": "stream",
     "text": [
      "MASS_P_01946_RIGHT_MLO_M_1.jpg\n",
      "MASS_P_01981_RIGHT_CC_M_1.jpg\n",
      "MASS_P_01981_RIGHT_MLO_M_1.jpg\n",
      "MASS_P_01983_LEFT_MLO_M_1.jpg\n",
      "MASS_P_02033_RIGHT_CC_M_1.jpg\n",
      "MASS_P_02033_RIGHT_MLO_M_1.jpg\n",
      "MASS_P_02079_RIGHT_CC_M_1.jpg\n",
      "MASS_P_02079_RIGHT_MLO_M_1.jpg\n",
      "MASS_P_02092_LEFT_CC_M_1.jpg\n"
     ]
    },
    {
     "name": "stderr",
     "output_type": "stream",
     "text": [
      "Cropping:  98%|█████████████████████████████████████████████████████████████████▍ | 3488/3568 [20:00<00:27,  2.91img/s]"
     ]
    },
    {
     "name": "stdout",
     "output_type": "stream",
     "text": [
      "MASS_P_02092_LEFT_MLO_M_1.jpg\n"
     ]
    },
    {
     "name": "stderr",
     "output_type": "stream",
     "text": [
      "\n"
     ]
    }
   ],
   "source": [
    "assert len(imgs_df) == len(masks_df), \"The number of images should be equal with the number of masks\"\n",
    "\n",
    "nr_removed = 0\n",
    "\n",
    "with tqdm(desc=\"Cropping\", unit=\"img\", total=len(imgs_df), leave=True) as pbar:\n",
    "    for img_row, mask_row in zip(imgs_df.iterrows(), masks_df.iterrows()):\n",
    "        img_row = img_row[1]\n",
    "        mask_row = mask_row[1]\n",
    "\n",
    "        img_filename  = pt.Path(img_row['file_path']).name\n",
    "        mask_filename = pt.Path(mask_row['file_path']).name\n",
    "        \n",
    "        assert img_filename == mask_filename\n",
    "        \n",
    "        _img = cv2.imread(img_row['file_path'])\n",
    "        _mask = cv2.imread(mask_row['file_path'])  \n",
    "        if abs(_img.shape[0] - _mask.shape[0]) > 1 or abs(_img.shape[1] - _mask.shape[1]) > 1:\n",
    "            # ignore images and masks that do not have the same size\n",
    "#             print(mask_filename)\n",
    "            nr_removed += 1\n",
    "            continue\n",
    "\n",
    "        roi_crop, mask_crop = get_patches(_img, _mask, img_filename, patch_dim=PATCH_DIM, debug=False)\n",
    "\n",
    "        roi_path = OUTPUT_PATH/IMGS_DIR/img_filename\n",
    "        mask_path = OUTPUT_PATH/MASKS_DIR/mask_filename        \n",
    "\n",
    "        cv2.imwrite(str(roi_path), roi_crop)\n",
    "        cv2.imwrite(str(mask_path), mask_crop)\n",
    "        \n",
    "        pbar.update()"
   ]
  },
  {
   "cell_type": "code",
   "execution_count": null,
   "metadata": {},
   "outputs": [],
   "source": []
  }
 ],
 "metadata": {
  "kernelspec": {
   "display_name": "Python 3",
   "language": "python",
   "name": "python3"
  },
  "language_info": {
   "codemirror_mode": {
    "name": "ipython",
    "version": 3
   },
   "file_extension": ".py",
   "mimetype": "text/x-python",
   "name": "python",
   "nbconvert_exporter": "python",
   "pygments_lexer": "ipython3",
   "version": "3.7.7"
  }
 },
 "nbformat": 4,
 "nbformat_minor": 4
}